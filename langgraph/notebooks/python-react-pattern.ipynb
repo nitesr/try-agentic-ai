{
 "cells": [
  {
   "cell_type": "markdown",
   "id": "ddee719f",
   "metadata": {},
   "source": [
    "# ReACT - Synergizing reasoning and acting in language models\n",
    "1. LLM thinks about what to do and then decide the action to take\n",
    "2. action is taken in environment and observation is returned\n",
    "3. with that observation the LLM repeats\n",
    "\n",
    "https://til.simonwillison.net/llms/python-react-pattern"
   ]
  },
  {
   "cell_type": "markdown",
   "id": "7d69175c",
   "metadata": {},
   "source": [
    "## OpenAI usage"
   ]
  },
  {
   "cell_type": "code",
   "execution_count": 4,
   "id": "ea788ccd",
   "metadata": {},
   "outputs": [
    {
     "name": "stdout",
     "output_type": "stream",
     "text": [
      "The capital of France is Paris.\n"
     ]
    }
   ],
   "source": [
    "from openai import OpenAI\n",
    "\n",
    "client = OpenAI(\n",
    "    base_url=\"http://localhost:1234/v1\", \n",
    "    api_key=\"dummy\"\n",
    ")\n",
    "\n",
    "response = client.chat.completions.create(\n",
    "    model=\"qwen/qwen3-4b-2507\",\n",
    "    messages=[{\"role\": \"user\", \"content\": \"What is the capital of France?\"}]\n",
    ")\n",
    "\n",
    "print(response.choices[0].message.content)"
   ]
  },
  {
   "cell_type": "markdown",
   "id": "8f572fb2",
   "metadata": {},
   "source": [
    "## ReACT Python Agent"
   ]
  },
  {
   "cell_type": "code",
   "execution_count": 11,
   "id": "be58cf72",
   "metadata": {},
   "outputs": [],
   "source": [
    "def average_dog_weight(breed: str) -> str:\n",
    "    if breed == \"Bulldog\":\n",
    "        return \"Bulldog weighs on average51 lbs\"\n",
    "    elif breed == \"Collie\":\n",
    "        return \"Collie weighs on average 55 lbs\"\n",
    "    else:\n",
    "        return \"An average dog weighs on average 51 lbs\"\n",
    "\n",
    "\n",
    "def calculate(expression: str) -> str:\n",
    "    return eval(expression)\n",
    "\n",
    "known_actions = {\n",
    "    \"average_dog_weight\": average_dog_weight,\n",
    "    \"calculate\": calculate\n",
    "}"
   ]
  },
  {
   "cell_type": "code",
   "execution_count": 6,
   "id": "a70e591a",
   "metadata": {},
   "outputs": [],
   "source": [
    "class Agent:\n",
    "    def __init__(self, system_prompt: str):\n",
    "        self.system_prompt = system_prompt\n",
    "        self.messages = []\n",
    "        self.messages.append({\"role\": \"system\", \"content\": system_prompt})\n",
    "\n",
    "    def __call__(self, input: str) -> str:\n",
    "        self.messages.append({\"role\": \"user\", \"content\": input})\n",
    "        result = self.execute()\n",
    "        self.messages.append({\"role\": \"assistant\", \"content\": result})\n",
    "        return result\n",
    "    \n",
    "    def execute(self) -> str:\n",
    "        response = client.chat.completions.create(\n",
    "            model=\"qwen/qwen3-4b-2507\",\n",
    "            messages=self.messages\n",
    "        )\n",
    "        return response.choices[0].message.content\n",
    "\n",
    "\n",
    "react_system_prompt = \"\"\"\n",
    "You run in a loop of Thought, Action, PAUSE, Observation.\n",
    "At the end of the loop you output an Answer\n",
    "Use Thought to describe your thoughts about the question you have been asked.\n",
    "Use Action to run one of the actions available to you - then return PAUSE.\n",
    "Observation will be the result of running those actions.\n",
    "\n",
    "Your available actions are:\n",
    "\n",
    "calculate:\n",
    "e.g. calculate: 4 * 7 / 3\n",
    "Runs a calculation and returns the number - uses Python so be sure to use floating point syntax if necessary\n",
    "\n",
    "average_dog_weight:\n",
    "e.g. average_dog_weight: Collie\n",
    "Returns average dog weight of the given breed\n",
    "\n",
    "\n",
    "Example session:\n",
    "\n",
    "Question: How much does a Bulldog weigh?\n",
    "Thought: I should look the dogs weight using average_dog_weight action\n",
    "Action: average_dog_weight: Bulldog\n",
    "PAUSE\n",
    "\n",
    "You will be called again with this:\n",
    "\n",
    "Observation: A bulldog weighs 51 lbs\n",
    "\n",
    "You then output:\n",
    "\n",
    "Answer: A bulldog weighs 51 lbs\n",
    "\"\"\".strip()\n",
    "\n",
    "agent = Agent(system_prompt=react_system_prompt)"
   ]
  },
  {
   "cell_type": "code",
   "execution_count": 7,
   "id": "677fe090",
   "metadata": {},
   "outputs": [
    {
     "data": {
      "text/plain": [
       "\"Thought: I should look up the dog's weight using the average_dog_weight action.  \\nAction: average_dog_weight: Bulldog  \\nPAUSE\""
      ]
     },
     "execution_count": 7,
     "metadata": {},
     "output_type": "execute_result"
    }
   ],
   "source": [
    "agent(\"How much does a Bulldog weigh?\")"
   ]
  },
  {
   "cell_type": "code",
   "execution_count": 10,
   "id": "afed7f7e",
   "metadata": {},
   "outputs": [
    {
     "data": {
      "text/plain": [
       "'Answer: A bulldog weighs 51 lbs'"
      ]
     },
     "execution_count": 10,
     "metadata": {},
     "output_type": "execute_result"
    }
   ],
   "source": [
    "action_result = average_dog_weight(\"Bulldog\")\n",
    "agent(f\"Observation: ${action_result}\")\n"
   ]
  },
  {
   "cell_type": "code",
   "execution_count": null,
   "id": "8775ec85",
   "metadata": {},
   "outputs": [
    {
     "name": "stdout",
     "output_type": "stream",
     "text": [
      "log: Thought: I should look up the dog's weight using the average_dog_weight action.  \n",
      "Action: average_dog_weight: Bulldog  \n",
      "PAUSE\n",
      "log: -- running average_dog_weight with Bulldog  \n",
      "log: Answer: A bulldog weighs 51 lbs\n"
     ]
    },
    {
     "data": {
      "text/plain": [
       "'Answer: A bulldog weighs 51 lbs'"
      ]
     },
     "execution_count": 17,
     "metadata": {},
     "output_type": "execute_result"
    }
   ],
   "source": [
    "import re\n",
    "from typing import Tuple\n",
    "\n",
    "action_re = re.compile(r\"^Action: (\\w+): (.*)$\")\n",
    "\n",
    "def contains_action(result: str) -> bool:\n",
    "    return \"Action:\" in result\n",
    "\n",
    "def extract_action(result: str) -> Tuple[str, str]:\n",
    "    actions = [action_re.match(a) for a in result.split('\\n') if action_re.match(a)]\n",
    "    if actions:\n",
    "        return actions[0].groups()\n",
    "    return None\n",
    "\n",
    "def agent_loop(query: str, max_turns: int = 10) -> str:\n",
    "    agent = Agent(system_prompt=react_system_prompt)\n",
    "    prompt = query\n",
    "    for _ in range(max_turns):\n",
    "        result = agent(prompt)\n",
    "        print('log:', result)\n",
    "        if contains_action(result):\n",
    "            action, action_intput = extract_action(result)\n",
    "            print(f\"log: -- running {action} with {action_intput}\")\n",
    "            action_result = known_actions[action](action_intput)\n",
    "            prompt = f\"Observation: {action_result}\"\n",
    "        else:\n",
    "            return result\n",
    "    return None\n",
    "\n",
    "agent_loop(\"How much does a Bulldog weigh?\")"
   ]
  },
  {
   "cell_type": "code",
   "execution_count": 18,
   "id": "9d96fd8b",
   "metadata": {},
   "outputs": [
    {
     "name": "stdout",
     "output_type": "stream",
     "text": [
      "log: Thought: I need to find the average weights of both a Bulldog and a Collie, then add them together. I'll start by getting the average weight of a Bulldog using the average_dog_weight action.\n",
      "Action: average_dog_weight: Bulldog\n",
      "PAUSE\n",
      "log: -- running average_dog_weight with Bulldog\n",
      "log: Thought: Now that I have the average weight of a Bulldog, I need to get the average weight of a Collie next. I'll use the average_dog_weight action for Collie.  \n",
      "Action: average_dog_weight: Collie\n",
      "PAUSE\n",
      "log: -- running average_dog_weight with Collie\n",
      "log: Thought: Now that I have both average weights — Bulldog at 51 lbs and Collie at 55 lbs — I can calculate their total weight by adding them together.  \n",
      "Action: calculate: 51 + 55\n",
      "PAUSE\n",
      "log: -- running calculate with 51 + 55\n",
      "log: Answer: A Bulldog and a Collie together weigh 106 lbs.\n"
     ]
    },
    {
     "data": {
      "text/plain": [
       "'Answer: A Bulldog and a Collie together weigh 106 lbs.'"
      ]
     },
     "execution_count": 18,
     "metadata": {},
     "output_type": "execute_result"
    }
   ],
   "source": [
    "agent_loop(\"How much does a Bulldog and Collie weigh together?\")"
   ]
  }
 ],
 "metadata": {
  "kernelspec": {
   "display_name": "langchain",
   "language": "python",
   "name": "python3"
  },
  "language_info": {
   "codemirror_mode": {
    "name": "ipython",
    "version": 3
   },
   "file_extension": ".py",
   "mimetype": "text/x-python",
   "name": "python",
   "nbconvert_exporter": "python",
   "pygments_lexer": "ipython3",
   "version": "3.11.13"
  }
 },
 "nbformat": 4,
 "nbformat_minor": 5
}
