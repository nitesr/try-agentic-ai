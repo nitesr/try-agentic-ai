{
 "cells": [
  {
   "cell_type": "markdown",
   "id": "c0de23b8",
   "metadata": {},
   "source": [
    "# Langgraph Agent"
   ]
  },
  {
   "cell_type": "code",
   "execution_count": 14,
   "id": "6a3c7bcb",
   "metadata": {},
   "outputs": [],
   "source": [
    "from langchain_openai import ChatOpenAI\n",
    "from langchain_tavily import TavilySearch\n"
   ]
  },
  {
   "cell_type": "code",
   "execution_count": 38,
   "id": "91ef1338",
   "metadata": {},
   "outputs": [],
   "source": [
    "from langgraph.graph import StateGraph, END, START\n",
    "from langchain_core.tools import BaseTool\n",
    "from langchain_core.messages import BaseMessage, HumanMessage, SystemMessage\n",
    "from langchain_core.messages import ToolMessage\n",
    "\n",
    "\n",
    "from typing_extensions import TypedDict\n",
    "from typing import Annotated\n",
    "import operator\n",
    "\n",
    "\n",
    "class AgentState(TypedDict):\n",
    "    messages: Annotated[list[BaseMessage], operator.add]\n",
    "\n",
    "class LangGraphAgent:\n",
    "    def __init__(self, model: ChatOpenAI, tools: list[BaseTool], system_message: str = \"\"):\n",
    "        self.model = model.bind_tools(tools)\n",
    "        self.tools = {t.name : t for t in tools}\n",
    "        self.system_message = system_message\n",
    "        \n",
    "        graph = StateGraph(AgentState)\n",
    "\n",
    "        graph.add_node(\"llm\", self._call_llm)\n",
    "        graph.add_node(\"action\", self._call_action)\n",
    "\n",
    "        graph.add_conditional_edges(\n",
    "            \"llm\", self._exits_action, \n",
    "            {True: \"action\", False: END}\n",
    "        )\n",
    "        graph.add_edge(\"action\", \"llm\")\n",
    "\n",
    "        graph.set_entry_point(\"llm\")\n",
    "        self.graph = graph.compile()\n",
    "    \n",
    "    def _exits_action(self, state: AgentState) -> bool:\n",
    "        last_message = state[\"messages\"][-1]\n",
    "        return last_message.tool_calls and len(last_message.tool_calls) > 0\n",
    "    \n",
    "    def _call_llm(self, state: AgentState) -> BaseMessage:\n",
    "        messages = [SystemMessage(content=self.system_message)] + state[\"messages\"]\n",
    "        message = self.model.invoke(messages)\n",
    "        return {\"messages\": [message]}\n",
    "    \n",
    "    def _call_action(self, state: AgentState) -> BaseMessage:\n",
    "        results = []\n",
    "        tool_calls = state[\"messages\"][-1].tool_calls\n",
    "        for tool_call in tool_calls:\n",
    "            print(f\"Calling Tool: {tool_call}\")\n",
    "            if tool_call[\"name\"] in self.tools:\n",
    "                tool = self.tools[tool_call[\"name\"]]\n",
    "                result = tool.invoke(tool_call[\"args\"])\n",
    "                print(f\"Tool Result: {result}\")\n",
    "                results.append(ToolMessage(content=result, tool_call_id=tool_call[\"id\"], name=tool_call[\"name\"]))\n",
    "        return {\"messages\": results}\n",
    "\n"
   ]
  },
  {
   "cell_type": "code",
   "execution_count": 45,
   "id": "e8680241",
   "metadata": {},
   "outputs": [],
   "source": [
    "from dotenv import load_dotenv\n",
    "import os\n",
    "\n",
    "# Load environment variables from .env file\n",
    "load_dotenv()\n",
    "\n",
    "# Load environment variables\n",
    "OPENAI_API_KEY = os.getenv(\"OPENAI_API_KEY\")\n",
    "TAVILY_API_KEY = os.getenv(\"TAVILY_API_KEY\")"
   ]
  },
  {
   "cell_type": "code",
   "execution_count": 46,
   "id": "9b95d057",
   "metadata": {},
   "outputs": [],
   "source": [
    "model = ChatOpenAI(\n",
    "    base_url=\"http://localhost:1234/v1\",\n",
    "    model=\"qwen/qwen3-4b-2507\",\n",
    "    api_key=OPENAI_API_KEY,\n",
    "    temperature=0.0,\n",
    ")\n",
    "\n",
    "\n",
    "tools = [\n",
    "    TavilySearch(\n",
    "        max_results=2, \n",
    "        tavily_api_key=TAVILY_API_KEY\n",
    "    )\n",
    "]\n",
    "\n",
    "sys_prompt = \"\"\"\n",
    "You are a smart research assistant. Use the search engine to find the answer to the user's question.\n",
    "You are allowed to make multiple calls (either together or in sequence).\n",
    "Only look for information when you are sure of what you want.\n",
    "If you see yourself repeating in a loop, stop and return the answer.\n",
    "\"\"\".strip()\n",
    "\n",
    "agent = LangGraphAgent(model=model, tools=tools, system_message=sys_prompt)"
   ]
  },
  {
   "cell_type": "code",
   "execution_count": 51,
   "id": "99dff174",
   "metadata": {},
   "outputs": [
    {
     "name": "stdout",
     "output_type": "stream",
     "text": [
      "Calling Tool: {'name': 'tavily_search', 'args': {'query': 'weather in SF', 'include_domains': ['weather.com', 'accuweather.com'], 'search_depth': 'basic', 'include_images': False}, 'id': '226418625', 'type': 'tool_call'}\n",
      "Tool Result: {'query': 'weather in SF', 'follow_up_questions': None, 'answer': None, 'images': [], 'results': [{'title': 'Weather in San Francisco', 'url': 'https://www.weatherapi.com/', 'content': \"{'location': {'name': 'San Francisco', 'region': 'California', 'country': 'United States of America', 'lat': 37.775, 'lon': -122.4183, 'tz_id': 'America/Los_Angeles', 'localtime_epoch': 1756087230, 'localtime': '2025-08-24 19:00'}, 'current': {'last_updated_epoch': 1756087200, 'last_updated': '2025-08-24 19:00', 'temp_c': 16.1, 'temp_f': 61.0, 'is_day': 1, 'condition': {'text': 'Overcast', 'icon': '//cdn.weatherapi.com/weather/64x64/day/122.png', 'code': 1009}, 'wind_mph': 11.0, 'wind_kph': 17.6, 'wind_degree': 257, 'wind_dir': 'WSW', 'pressure_mb': 1013.0, 'pressure_in': 29.92, 'precip_mm': 0.0, 'precip_in': 0.0, 'humidity': 94, 'cloud': 100, 'feelslike_c': 16.1, 'feelslike_f': 61.0, 'windchill_c': 14.0, 'windchill_f': 57.1, 'heatindex_c': 14.6, 'heatindex_f': 58.3, 'dewpoint_c': 13.4, 'dewpoint_f': 56.0, 'vis_km': 14.0, 'vis_miles': 8.0, 'uv': 0.2, 'gust_mph': 16.2, 'gust_kph': 26.0}}\", 'score': 0.8312809, 'raw_content': None}, {'title': 'AccuWeather San Francisco, CA Current Weather | AccuWeather', 'url': 'https://www.accuweather.com/en/us/san-francisco/94103/current-weather/347629', 'content': 'San Francisco, CA Current Weather | AccuWeather San Francisco, CA Weather ### Warnings### Data Suite### Forensics### Advertising### Superior Accuracy™ Weather Forecasts Autumnlike cooldown coming to over 20 states before Labor Day 6 hours ago Image 4Hurricane Waves crash into North Carolina beach homes as Erin churns off coast 1 day ago Image 5Recreation ‘Swamp Queen’ makes history in Florida Python Challenge 1 day ago Image 6Hurricane Next Atlantic tropical storm, hurricane in the making following Erin 5 hours ago Image 7Astronomy A black moon is happening this weekend. 2 days ago Image 10Weather News Heavy rain in Pakistan, India-administered Kashmir and Nepal kills 400 4 days ago Image 11Climate These surprising materials are the future of furniture design 3 days ago Image 12Weather News Fossils show 2 types of ancient humans lived at the same place, time 1 day ago Image 13', 'score': 0.6506676, 'raw_content': None}], 'response_time': 1.15, 'request_id': '7ca1ff5c-694c-486b-83e7-f61c9850f177'}\n"
     ]
    },
    {
     "data": {
      "text/plain": [
       "{'messages': [HumanMessage(content='What is the weather in SF?', additional_kwargs={}, response_metadata={}),\n",
       "  AIMessage(content='', additional_kwargs={'tool_calls': [{'id': '226418625', 'function': {'arguments': '{\"query\":\"weather in SF\",\"include_domains\":[\"weather.com\",\"accuweather.com\"],\"search_depth\":\"basic\",\"include_images\":false}', 'name': 'tavily_search'}, 'type': 'function'}], 'refusal': None}, response_metadata={'token_usage': {'completion_tokens': 51, 'prompt_tokens': 1884, 'total_tokens': 1935, 'completion_tokens_details': None, 'prompt_tokens_details': None}, 'model_name': 'qwen/qwen3-4b-2507', 'system_fingerprint': 'qwen/qwen3-4b-2507', 'id': 'chatcmpl-i2bk5koge1d62s8vt9llf', 'service_tier': None, 'finish_reason': 'tool_calls', 'logprobs': None}, id='run--67ad38f0-406c-4532-ad0b-e31bf11d8973-0', tool_calls=[{'name': 'tavily_search', 'args': {'query': 'weather in SF', 'include_domains': ['weather.com', 'accuweather.com'], 'search_depth': 'basic', 'include_images': False}, 'id': '226418625', 'type': 'tool_call'}], usage_metadata={'input_tokens': 1884, 'output_tokens': 51, 'total_tokens': 1935, 'input_token_details': {}, 'output_token_details': {}}),\n",
       "  ToolMessage(content='{\\'query\\': \\'weather in SF\\', \\'follow_up_questions\\': None, \\'answer\\': None, \\'images\\': [], \\'results\\': [{\\'title\\': \\'Weather in San Francisco\\', \\'url\\': \\'https://www.weatherapi.com/\\', \\'content\\': \"{\\'location\\': {\\'name\\': \\'San Francisco\\', \\'region\\': \\'California\\', \\'country\\': \\'United States of America\\', \\'lat\\': 37.775, \\'lon\\': -122.4183, \\'tz_id\\': \\'America/Los_Angeles\\', \\'localtime_epoch\\': 1756087230, \\'localtime\\': \\'2025-08-24 19:00\\'}, \\'current\\': {\\'last_updated_epoch\\': 1756087200, \\'last_updated\\': \\'2025-08-24 19:00\\', \\'temp_c\\': 16.1, \\'temp_f\\': 61.0, \\'is_day\\': 1, \\'condition\\': {\\'text\\': \\'Overcast\\', \\'icon\\': \\'//cdn.weatherapi.com/weather/64x64/day/122.png\\', \\'code\\': 1009}, \\'wind_mph\\': 11.0, \\'wind_kph\\': 17.6, \\'wind_degree\\': 257, \\'wind_dir\\': \\'WSW\\', \\'pressure_mb\\': 1013.0, \\'pressure_in\\': 29.92, \\'precip_mm\\': 0.0, \\'precip_in\\': 0.0, \\'humidity\\': 94, \\'cloud\\': 100, \\'feelslike_c\\': 16.1, \\'feelslike_f\\': 61.0, \\'windchill_c\\': 14.0, \\'windchill_f\\': 57.1, \\'heatindex_c\\': 14.6, \\'heatindex_f\\': 58.3, \\'dewpoint_c\\': 13.4, \\'dewpoint_f\\': 56.0, \\'vis_km\\': 14.0, \\'vis_miles\\': 8.0, \\'uv\\': 0.2, \\'gust_mph\\': 16.2, \\'gust_kph\\': 26.0}}\", \\'score\\': 0.8312809, \\'raw_content\\': None}, {\\'title\\': \\'AccuWeather San Francisco, CA Current Weather | AccuWeather\\', \\'url\\': \\'https://www.accuweather.com/en/us/san-francisco/94103/current-weather/347629\\', \\'content\\': \\'San Francisco, CA Current Weather | AccuWeather San Francisco, CA Weather ### Warnings### Data Suite### Forensics### Advertising### Superior Accuracy™ Weather Forecasts Autumnlike cooldown coming to over 20 states before Labor Day 6 hours ago Image 4Hurricane Waves crash into North Carolina beach homes as Erin churns off coast 1 day ago Image 5Recreation ‘Swamp Queen’ makes history in Florida Python Challenge 1 day ago Image 6Hurricane Next Atlantic tropical storm, hurricane in the making following Erin 5 hours ago Image 7Astronomy A black moon is happening this weekend. 2 days ago Image 10Weather News Heavy rain in Pakistan, India-administered Kashmir and Nepal kills 400 4 days ago Image 11Climate These surprising materials are the future of furniture design 3 days ago Image 12Weather News Fossils show 2 types of ancient humans lived at the same place, time 1 day ago Image 13\\', \\'score\\': 0.6506676, \\'raw_content\\': None}], \\'response_time\\': 1.15, \\'request_id\\': \\'7ca1ff5c-694c-486b-83e7-f61c9850f177\\'}', name='tavily_search', tool_call_id='226418625'),\n",
       "  AIMessage(content='The current weather in San Francisco (SF) is as follows:\\n\\n- **Temperature**: 16.1°C (61.0°F)\\n- **Condition**: Overcast\\n- **Wind**: 11.0 mph (17.6 kph) from the WSW direction\\n- **Humidity**: 94%\\n- **Cloud Coverage**: 100%\\n- **Dew Point**: 13.4°C (56.0°F)\\n- **Wind Chill**: 14.0°C (57.1°F)\\n- **UV Index**: 0.2 (very low)\\n\\nIt is currently daytime, and there is no precipitation. The temperature feels similar to the actual temperature due to high humidity and overcast conditions. \\n\\nFor more details, you can refer to the official weather page.', additional_kwargs={'refusal': None}, response_metadata={'token_usage': {'completion_tokens': 173, 'prompt_tokens': 2806, 'total_tokens': 2979, 'completion_tokens_details': None, 'prompt_tokens_details': None}, 'model_name': 'qwen/qwen3-4b-2507', 'system_fingerprint': 'qwen/qwen3-4b-2507', 'id': 'chatcmpl-3izuii54oyq9keuxqfcn', 'service_tier': None, 'finish_reason': 'stop', 'logprobs': None}, id='run--51d71164-6366-452d-b1c0-6891b3b4cd1e-0', usage_metadata={'input_tokens': 2806, 'output_tokens': 173, 'total_tokens': 2979, 'input_token_details': {}, 'output_token_details': {}})]}"
      ]
     },
     "execution_count": 51,
     "metadata": {},
     "output_type": "execute_result"
    }
   ],
   "source": [
    "messages = [HumanMessage(content=\"What is the weather in SF?\")]\n",
    "result = agent.graph.invoke({\"messages\": messages})\n",
    "result"
   ]
  },
  {
   "cell_type": "code",
   "execution_count": 52,
   "id": "b928f275",
   "metadata": {},
   "outputs": [
    {
     "data": {
      "text/plain": [
       "'The current weather in San Francisco (SF) is as follows:\\n\\n- **Temperature**: 16.1°C (61.0°F)\\n- **Condition**: Overcast\\n- **Wind**: 11.0 mph (17.6 kph) from the WSW direction\\n- **Humidity**: 94%\\n- **Cloud Coverage**: 100%\\n- **Dew Point**: 13.4°C (56.0°F)\\n- **Wind Chill**: 14.0°C (57.1°F)\\n- **UV Index**: 0.2 (very low)\\n\\nIt is currently daytime, and there is no precipitation. The temperature feels similar to the actual temperature due to high humidity and overcast conditions. \\n\\nFor more details, you can refer to the official weather page.'"
      ]
     },
     "execution_count": 52,
     "metadata": {},
     "output_type": "execute_result"
    }
   ],
   "source": [
    "result[\"messages\"][-1].content"
   ]
  },
  {
   "cell_type": "code",
   "execution_count": null,
   "id": "19d1ad35",
   "metadata": {},
   "outputs": [
    {
     "data": {
      "text/plain": [
       "\"I don't have enough context to provide a meaningful response about Dallas. Could you please clarify your question or provide more details? For example, are you asking about Dallas as a city, its economy, weather, tourism, or something else?\""
      ]
     },
     "execution_count": 53,
     "metadata": {},
     "output_type": "execute_result"
    }
   ],
   "source": [
    "# It doesn't remember the previous conversation.\n",
    "# as there is no memory. The AgentState is only for one execution.\n",
    "result =agent.graph.invoke({\"messages\": [HumanMessage(content=\"How about Dallas?\")]})\n",
    "result[\"messages\"][-1].content"
   ]
  },
  {
   "cell_type": "code",
   "execution_count": null,
   "id": "07621604",
   "metadata": {},
   "outputs": [
    {
     "name": "stdout",
     "output_type": "stream",
     "text": [
      "Calling Tool: {'name': 'tavily_search', 'args': {'query': 'current weather in SF and LA', 'include_domains': ['weather.com', 'accuweather.com']}, 'id': '101337140', 'type': 'tool_call'}\n"
     ]
    },
    {
     "data": {
      "text/plain": [
       "\"The current weather in San Francisco (SF) and Los Angeles (LA) is as follows:\\n\\n### **Los Angeles, CA**\\n- **Temperature**: 92°F (33.4°C)\\n- **Condition**: Sunny\\n- **Wind**: 9.6 mph (SW direction)\\n- **Humidity**: 26%\\n- **Cloud Cover**: 0% (clear sky)\\n- **Dew Point**: 64.6°F (18.1°C)\\n- **UV Index**: 2.0\\n- **Feels like**: 96°F (35.5°C) due to heat index\\n\\n### **San Francisco, CA**\\nWhile the provided data does not include specific details for San Francisco, it does mention a separate weather forecast page for San Francisco, which includes current conditions, wind, air quality, and a 3-day forecast. For precise details on SF, you may refer to the [AccuWeather page](https://www.accuweather.com/en/us/san-francisco/94103/weather-forecast/347629) for updated and detailed information.\\n\\nLet me know if you'd like further details!\""
      ]
     },
     "execution_count": 37,
     "metadata": {},
     "output_type": "execute_result"
    }
   ],
   "source": [
    "\n",
    "result =agent.graph.invoke({\"messages\": [HumanMessage(content=\"What is the weather in SF and LA?\")]})\n",
    "result[\"messages\"][-1].content"
   ]
  },
  {
   "cell_type": "code",
   "execution_count": null,
   "id": "9c3cc198",
   "metadata": {},
   "outputs": [
    {
     "name": "stdout",
     "output_type": "stream",
     "text": [
      "Calling Tool: {'name': 'tavily_search', 'args': {'query': 'current weather in SF and Dallas', 'include_domains': ['weather.com', 'accuweather.com']}, 'id': '829888646', 'type': 'tool_call'}\n",
      "Tool Result: {'query': 'current weather in SF and Dallas', 'follow_up_questions': None, 'answer': None, 'images': [], 'results': [{'title': 'Weather in San Francisco, Dallas', 'url': 'https://www.weatherapi.com/', 'content': \"{'location': {'name': 'Colonia San Francisco (San Francisco)', 'region': 'Zacatecas', 'country': 'Mexico', 'lat': 22.3036, 'lon': -101.8206, 'tz_id': 'America/Mexico_City', 'localtime_epoch': 1756082901, 'localtime': '2025-08-24 18:48'}, 'current': {'last_updated_epoch': 1756082700, 'last_updated': '2025-08-24 18:45', 'temp_c': 18.3, 'temp_f': 64.9, 'is_day': 1, 'condition': {'text': 'Light rain', 'icon': '//cdn.weatherapi.com/weather/64x64/day/296.png', 'code': 1183}, 'wind_mph': 10.5, 'wind_kph': 16.9, 'wind_degree': 75, 'wind_dir': 'ENE', 'pressure_mb': 1023.0, 'pressure_in': 30.2, 'precip_mm': 0.0, 'precip_in': 0.0, 'humidity': 88, 'cloud': 62, 'feelslike_c': 18.3, 'feelslike_f': 64.9, 'windchill_c': 20.6, 'windchill_f': 69.1, 'heatindex_c': 21.0, 'heatindex_f': 69.8, 'dewpoint_c': 13.3, 'dewpoint_f': 55.9, 'vis_km': 13.0, 'vis_miles': 8.0, 'uv': 0.2, 'gust_mph': 15.1, 'gust_kph': 24.3}}\", 'score': 0.4234505, 'raw_content': None}, {'title': 'AccuWeather San Francisco, CA Current Weather | AccuWeather', 'url': 'https://www.accuweather.com/en/us/san-francisco/94103/current-weather/347629', 'content': 'Current weather in San Francisco , CA. Check current conditions in San Francisco , CA with radar, hourly, and more.', 'score': 0.34455422, 'raw_content': None}], 'response_time': 4.67, 'request_id': '5173977a-7d17-4bf2-ae75-f6133e573f57'}\n"
     ]
    },
    {
     "data": {
      "text/plain": [
       "'The provided search results do not contain accurate information about the current weather in San Francisco (SF), California, or Dallas, Texas. Instead, one result incorrectly lists a location as \"Colonia San Francisco\" in Zacatecas, Mexico, which is not relevant to the U.S. cities of interest.\\n\\nTo provide accurate and up-to-date weather information for San Francisco and Dallas, I recommend checking trusted weather websites directly, such as [AccuWeather](https://www.accuweather.com) or [Weather.com](https://www.weather.com). These sources provide real-time, location-specific weather details including temperature, precipitation, wind, and humidity for both cities. \\n\\nFor now, I cannot provide the correct weather details based on the retrieved results. Let me know if you\\'d like further assistance!'"
      ]
     },
     "execution_count": 42,
     "metadata": {},
     "output_type": "execute_result"
    }
   ],
   "source": [
    "# the agent goes in loop if we ask for weather in SF and Dallas.\n",
    "# so I updated the system prompt to stop the agent from going in loop.\n",
    "result =agent.graph.invoke({\"messages\": [HumanMessage(content=\"What is the weather in SF and Dallas?\")]})\n",
    "result[\"messages\"][-1].content"
   ]
  },
  {
   "cell_type": "code",
   "execution_count": 44,
   "id": "0e9716f7",
   "metadata": {},
   "outputs": [
    {
     "name": "stdout",
     "output_type": "stream",
     "text": [
      "Calling Tool: {'name': 'tavily_search', 'args': {'query': 'which state won the superbowl in 2024', 'search_depth': 'advanced'}, 'id': '798705182', 'type': 'tool_call'}\n",
      "Tool Result: {'query': 'which state won the superbowl in 2024', 'follow_up_questions': None, 'answer': None, 'images': [], 'results': [{'url': 'https://www.npr.org/2024/02/10/1230621176/super-bowl-58', 'title': 'Super Bowl 2024 Updates: The Kansas City Chiefs win the ... - NPR', 'content': \"Kansas City Chiefs' tight end #87 Travis Kelce and Kansas City Chiefs' quarterback #15 Patrick Mahomes hug after winning Super Bowl LVIII against the San Francisco 49ers at Allegiant Stadium in Las Vegas, Nevada, February 11, 2024.\\n\\nThe Kansas City Chiefs win the 2024 Super Bowl, 25-22!\\n\\nThe Kansas City Chiefs have won their third Super Bowl title in five years, and are the first back-to-back NFL champions in almost 20 years. [...] NPR logo\\n\\nNPR Music\\nNPR Music\\n\\n## Super Bowl 2024\\n\\n# Super Bowl 2024 updates: The commercials, cameos, halftime show and more\\n\\nBy\\n\\nThe NPR Network\\n\\nKansas City Chiefs' tight end #87 Travis Kelce and Kansas City Chiefs' quarterback #15 Patrick Mahomes hug after winning Super Bowl LVIII against the San Francisco 49ers at Allegiant Stadium in Las Vegas, Nevada, February 11, 2024.\\nPATRICK T. FALLON/AFP via Getty Images\\nhide caption [...] embracing in the audience).\", 'score': 0.80771893, 'raw_content': None}, {'url': 'https://en.wikipedia.org/wiki/Super_Bowl_LVIII', 'title': 'Super Bowl LVIII - Wikipedia', 'content': 'to win back-to-back Super Bowls.( The game was played on February 11, 2024, at Allegiant Stadium in Paradise, Nevada. It was the first Super Bowl to be held in the state of Nevada.(', 'score': 0.80735475, 'raw_content': None}], 'response_time': 2.21, 'request_id': 'a94bc626-50f8-4269-9609-784555fde624'}\n"
     ]
    },
    {
     "data": {
      "text/plain": [
       "\"The Kansas City Chiefs won the 2024 Super Bowl (Super Bowl LVIII), defeating the San Francisco 49ers.\\n\\nHowever, the United States does not have a state-level GDP. GDP (Gross Domestic Product) is a measure of the total economic output of a country, and it is not typically attributed to individual states in the same way. While individual states may have their own economic data, such as state-level GDP, the official and most commonly referenced GDP figures are for the entire country.\\n\\nIf you're looking for the GDP of a specific U.S. state, please clarify, and I can provide further details. But for now, the Super Bowl winner is the Kansas City Chiefs, and there is no official GDP for a state in the U.S. context.\""
      ]
     },
     "execution_count": 44,
     "metadata": {},
     "output_type": "execute_result"
    }
   ],
   "source": [
    "result =agent.graph.invoke({\"messages\": [HumanMessage(content=\"Which state won the superbowl in 2024 and what is the GDP of that state?\")]})\n",
    "result[\"messages\"][-1].content"
   ]
  }
 ],
 "metadata": {
  "kernelspec": {
   "display_name": "langgraph",
   "language": "python",
   "name": "python3"
  },
  "language_info": {
   "codemirror_mode": {
    "name": "ipython",
    "version": 3
   },
   "file_extension": ".py",
   "mimetype": "text/x-python",
   "name": "python",
   "nbconvert_exporter": "python",
   "pygments_lexer": "ipython3",
   "version": "3.11.13"
  }
 },
 "nbformat": 4,
 "nbformat_minor": 5
}
