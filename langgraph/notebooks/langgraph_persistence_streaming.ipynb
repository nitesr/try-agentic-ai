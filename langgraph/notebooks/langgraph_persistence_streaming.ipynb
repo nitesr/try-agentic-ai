{
 "cells": [
  {
   "cell_type": "code",
   "execution_count": 1,
   "id": "78c1eba6",
   "metadata": {},
   "outputs": [],
   "source": [
    "from dotenv import load_dotenv\n",
    "import os\n",
    "\n",
    "# Load environment variables from .env file\n",
    "load_dotenv()\n",
    "\n",
    "# Load environment variables\n",
    "OPENAI_API_KEY = os.getenv(\"OPENAI_API_KEY\")\n",
    "TAVILY_API_KEY = os.getenv(\"TAVILY_API_KEY\")"
   ]
  },
  {
   "cell_type": "markdown",
   "id": "166df178",
   "metadata": {},
   "source": [
    "# Langgraph Persistence\n",
    "using memory to check-point the conversations at each node interaction"
   ]
  },
  {
   "cell_type": "code",
   "execution_count": 2,
   "id": "c04b046c",
   "metadata": {},
   "outputs": [],
   "source": [
    "from langchain_openai import ChatOpenAI\n",
    "from langchain_tavily import TavilySearch\n",
    "from langgraph.graph import StateGraph, END\n",
    "from langchain_core.tools import BaseTool\n",
    "from langchain_core.messages import BaseMessage, HumanMessage, SystemMessage\n",
    "from langchain_core.messages import ToolMessage\n",
    "\n",
    "from langgraph.checkpoint.sqlite import SqliteSaver\n",
    "\n",
    "\n",
    "from typing_extensions import TypedDict\n",
    "from typing import Annotated\n",
    "import operator\n",
    "\n",
    "\n",
    "class AgentState(TypedDict):\n",
    "    messages: Annotated[list[BaseMessage], operator.add]\n",
    "\n",
    "class LangGraphAgent:\n",
    "    def __init__(self, model: ChatOpenAI, tools: list[BaseTool], check_pointer, system_message: str):\n",
    "        self.model = model.bind_tools(tools)\n",
    "        self.tools = {t.name : t for t in tools}\n",
    "        self.system_message = system_message\n",
    "\n",
    "        graph = StateGraph(AgentState)\n",
    "\n",
    "        graph.add_node(\"llm\", self._call_llm)\n",
    "        graph.add_node(\"action\", self._call_action)\n",
    "\n",
    "        graph.add_conditional_edges(\n",
    "            \"llm\", self._exists_action, \n",
    "            {True: \"action\", False: END}\n",
    "        )\n",
    "        graph.add_edge(\"action\", \"llm\")\n",
    "\n",
    "        graph.set_entry_point(\"llm\")\n",
    "        self.graph = graph.compile(checkpointer=check_pointer)\n",
    "\n",
    "    def _exists_action(self, state: AgentState) -> bool:\n",
    "        last_message = state[\"messages\"][-1]\n",
    "        return hasattr(last_message, 'tool_calls') and last_message.tool_calls and len(last_message.tool_calls) > 0\n",
    "    \n",
    "    def _call_llm(self, state: AgentState) -> BaseMessage:\n",
    "        messages = [SystemMessage(content=self.system_message)] + state[\"messages\"]\n",
    "        message = self.model.invoke(messages)\n",
    "        return {\"messages\": [message]}\n",
    "    \n",
    "    def _call_action(self, state: AgentState) -> BaseMessage:\n",
    "        results = []\n",
    "        tool_calls = state[\"messages\"][-1].tool_calls\n",
    "        for tool_call in tool_calls:\n",
    "            print(f\"Calling Tool: {tool_call}\")\n",
    "            if tool_call[\"name\"] in self.tools:\n",
    "                tool = self.tools[tool_call[\"name\"]]\n",
    "                result = tool.invoke(tool_call[\"args\"])\n",
    "                print(f\"Tool Result: {result}\")\n",
    "                results.append(ToolMessage(content=str(result), tool_call_id=tool_call[\"id\"], name=tool_call[\"name\"]))   \n",
    "        print(\"Back to model!\")\n",
    "        return {\"messages\": results}\n",
    "\n",
    "model = ChatOpenAI(\n",
    "    base_url=\"http://localhost:1234/v1\",\n",
    "    model=\"qwen/qwen3-4b-2507\",\n",
    "    api_key=OPENAI_API_KEY,\n",
    "    temperature=0.0,\n",
    ")\n",
    "\n",
    "tools = [\n",
    "    TavilySearch(\n",
    "        max_results=2, \n",
    "        tavily_api_key=TAVILY_API_KEY\n",
    "    )\n",
    "]\n",
    "\n",
    "sys_prompt = \"\"\"\n",
    "You are a smart research assistant. Use the search engine to find the answer to the user's question.\n",
    "You are allowed to make multiple calls (either together or in sequence).\n",
    "Only look for information when you are sure of what you want.\n",
    "\"\"\".strip()"
   ]
  },
  {
   "cell_type": "code",
   "execution_count": 3,
   "id": "352ed9c1",
   "metadata": {},
   "outputs": [],
   "source": [
    "import sqlite3\n",
    "from langgraph.checkpoint.sqlite import SqliteSaver\n",
    "\n",
    "def stream_agent_sysout(agent, thread_id, user_input):\n",
    "    last_message = None\n",
    "    message = HumanMessage(content=user_input)\n",
    "    thread = { \"configurable\": { \"thread_id\": thread_id } }\n",
    "    for event in agent.graph.stream({\"messages\": [message]}, thread):\n",
    "        for v in event.values():\n",
    "            print(v['messages'])\n",
    "            last_message = v['messages'][-1].content\n",
    "    \n",
    "    print(\"=\"*50)\n",
    "    print(last_message)\n",
    "    print(\"=\"*50)\n",
    "\n",
    "\n",
    "shared_memory = SqliteSaver(sqlite3.connect(\":memory:\", check_same_thread=False))\n",
    "agent = LangGraphAgent(model, tools=tools, check_pointer=shared_memory, system_message=sys_prompt)"
   ]
  },
  {
   "cell_type": "code",
   "execution_count": 4,
   "id": "8ce3a2b8",
   "metadata": {},
   "outputs": [
    {
     "name": "stdout",
     "output_type": "stream",
     "text": [
      "[AIMessage(content='', additional_kwargs={'tool_calls': [{'id': '206668732', 'function': {'arguments': '{\"query\":\"weather in San Francisco\",\"include_domains\":[\"weather.com\",\"accuweather.com\"],\"search_depth\":\"basic\",\"include_images\":false}', 'name': 'tavily_search'}, 'type': 'function'}], 'refusal': None}, response_metadata={'token_usage': {'completion_tokens': 52, 'prompt_tokens': 1869, 'total_tokens': 1921, 'completion_tokens_details': None, 'prompt_tokens_details': None}, 'model_name': 'qwen/qwen3-4b-2507', 'system_fingerprint': 'qwen/qwen3-4b-2507', 'id': 'chatcmpl-wmg3rieytvfd13coknxcxw', 'service_tier': None, 'finish_reason': 'tool_calls', 'logprobs': None}, id='run--95f6db57-19da-4c1d-a990-6a7726df8cf6-0', tool_calls=[{'name': 'tavily_search', 'args': {'query': 'weather in San Francisco', 'include_domains': ['weather.com', 'accuweather.com'], 'search_depth': 'basic', 'include_images': False}, 'id': '206668732', 'type': 'tool_call'}], usage_metadata={'input_tokens': 1869, 'output_tokens': 52, 'total_tokens': 1921, 'input_token_details': {}, 'output_token_details': {}})]\n",
      "Calling Tool: {'name': 'tavily_search', 'args': {'query': 'weather in San Francisco', 'include_domains': ['weather.com', 'accuweather.com'], 'search_depth': 'basic', 'include_images': False}, 'id': '206668732', 'type': 'tool_call'}\n",
      "Tool Result: {'query': 'weather in San Francisco', 'follow_up_questions': None, 'answer': None, 'images': [], 'results': [{'title': 'Weather in San Francisco', 'url': 'https://www.weatherapi.com/', 'content': \"{'location': {'name': 'San Francisco', 'region': 'California', 'country': 'United States of America', 'lat': 37.775, 'lon': -122.4183, 'tz_id': 'America/Los_Angeles', 'localtime_epoch': 1756177123, 'localtime': '2025-08-25 19:58'}, 'current': {'last_updated_epoch': 1756176300, 'last_updated': '2025-08-25 19:45', 'temp_c': 18.3, 'temp_f': 64.9, 'is_day': 0, 'condition': {'text': 'Partly cloudy', 'icon': '//cdn.weatherapi.com/weather/64x64/night/116.png', 'code': 1003}, 'wind_mph': 9.8, 'wind_kph': 15.8, 'wind_degree': 256, 'wind_dir': 'WSW', 'pressure_mb': 1012.0, 'pressure_in': 29.87, 'precip_mm': 0.0, 'precip_in': 0.0, 'humidity': 78, 'cloud': 50, 'feelslike_c': 18.3, 'feelslike_f': 64.9, 'windchill_c': 14.6, 'windchill_f': 58.4, 'heatindex_c': 15.0, 'heatindex_f': 59.0, 'dewpoint_c': 13.9, 'dewpoint_f': 56.9, 'vis_km': 16.0, 'vis_miles': 9.0, 'uv': 0.2, 'gust_mph': 14.5, 'gust_kph': 23.4}}\", 'score': 0.9351295, 'raw_content': None}, {'url': 'https://www.accuweather.com/en/us/san-francisco/94103/weather-tomorrow/347629', 'title': 'Weather Tomorrow for San Francisco, CA - AccuWeather', 'content': 'Tuesday, August 26. Day. 69°Hi. RealFeel® 72°. Low clouds breaking for some sun. RealFeel®72°. RealFeel Shade™65°. Max UV Index7 (High). AccuLumen Brightness', 'score': 0.85421735, 'raw_content': None}], 'response_time': 0.85, 'request_id': 'ba575d3d-8523-4ccf-84f8-3628d1186e1a'}\n",
      "Back to model!\n",
      "[ToolMessage(content='{\\'query\\': \\'weather in San Francisco\\', \\'follow_up_questions\\': None, \\'answer\\': None, \\'images\\': [], \\'results\\': [{\\'title\\': \\'Weather in San Francisco\\', \\'url\\': \\'https://www.weatherapi.com/\\', \\'content\\': \"{\\'location\\': {\\'name\\': \\'San Francisco\\', \\'region\\': \\'California\\', \\'country\\': \\'United States of America\\', \\'lat\\': 37.775, \\'lon\\': -122.4183, \\'tz_id\\': \\'America/Los_Angeles\\', \\'localtime_epoch\\': 1756177123, \\'localtime\\': \\'2025-08-25 19:58\\'}, \\'current\\': {\\'last_updated_epoch\\': 1756176300, \\'last_updated\\': \\'2025-08-25 19:45\\', \\'temp_c\\': 18.3, \\'temp_f\\': 64.9, \\'is_day\\': 0, \\'condition\\': {\\'text\\': \\'Partly cloudy\\', \\'icon\\': \\'//cdn.weatherapi.com/weather/64x64/night/116.png\\', \\'code\\': 1003}, \\'wind_mph\\': 9.8, \\'wind_kph\\': 15.8, \\'wind_degree\\': 256, \\'wind_dir\\': \\'WSW\\', \\'pressure_mb\\': 1012.0, \\'pressure_in\\': 29.87, \\'precip_mm\\': 0.0, \\'precip_in\\': 0.0, \\'humidity\\': 78, \\'cloud\\': 50, \\'feelslike_c\\': 18.3, \\'feelslike_f\\': 64.9, \\'windchill_c\\': 14.6, \\'windchill_f\\': 58.4, \\'heatindex_c\\': 15.0, \\'heatindex_f\\': 59.0, \\'dewpoint_c\\': 13.9, \\'dewpoint_f\\': 56.9, \\'vis_km\\': 16.0, \\'vis_miles\\': 9.0, \\'uv\\': 0.2, \\'gust_mph\\': 14.5, \\'gust_kph\\': 23.4}}\", \\'score\\': 0.9351295, \\'raw_content\\': None}, {\\'url\\': \\'https://www.accuweather.com/en/us/san-francisco/94103/weather-tomorrow/347629\\', \\'title\\': \\'Weather Tomorrow for San Francisco, CA - AccuWeather\\', \\'content\\': \\'Tuesday, August 26. Day. 69°Hi. RealFeel® 72°. Low clouds breaking for some sun. RealFeel®72°. RealFeel Shade™65°. Max UV Index7 (High). AccuLumen Brightness\\', \\'score\\': 0.85421735, \\'raw_content\\': None}], \\'response_time\\': 0.85, \\'request_id\\': \\'ba575d3d-8523-4ccf-84f8-3628d1186e1a\\'}', name='tavily_search', tool_call_id='206668732')]\n",
      "[AIMessage(content='The current weather in San Francisco is partly cloudy. The temperature is 18.3°C (64.9°F), with a wind speed of 9.8 mph from the west-southwest. The humidity is 78%, and the wind chill is 14.6°C (58.4°F). There is no precipitation, and the dew point is 13.9°C (56.9°F). The conditions are expected to remain partly cloudy throughout the day. \\n\\nFor more details, you can refer to the official weather forecast.', additional_kwargs={'refusal': None}, response_metadata={'token_usage': {'completion_tokens': 118, 'prompt_tokens': 2645, 'total_tokens': 2763, 'completion_tokens_details': None, 'prompt_tokens_details': None}, 'model_name': 'qwen/qwen3-4b-2507', 'system_fingerprint': 'qwen/qwen3-4b-2507', 'id': 'chatcmpl-br2j0zie9qa946y9wif49', 'service_tier': None, 'finish_reason': 'stop', 'logprobs': None}, id='run--13a0c36e-432d-47b2-9296-39643291b417-0', usage_metadata={'input_tokens': 2645, 'output_tokens': 118, 'total_tokens': 2763, 'input_token_details': {}, 'output_token_details': {}})]\n",
      "==================================================\n",
      "The current weather in San Francisco is partly cloudy. The temperature is 18.3°C (64.9°F), with a wind speed of 9.8 mph from the west-southwest. The humidity is 78%, and the wind chill is 14.6°C (58.4°F). There is no precipitation, and the dew point is 13.9°C (56.9°F). The conditions are expected to remain partly cloudy throughout the day. \n",
      "\n",
      "For more details, you can refer to the official weather forecast.\n",
      "==================================================\n"
     ]
    }
   ],
   "source": [
    "message = HumanMessage(content=\"What is the weather in SF?\")\n",
    "thread = { \"configurable\": { \"thread_id\": \"1\" } }\n",
    "stream_agent_sysout(\n",
    "    agent, \n",
    "    thread_id = \"1\", \n",
    "    user_input=\"What is the weather in SF?\"\n",
    ")"
   ]
  },
  {
   "cell_type": "code",
   "execution_count": 5,
   "id": "90209d74",
   "metadata": {},
   "outputs": [
    {
     "name": "stdout",
     "output_type": "stream",
     "text": [
      "[AIMessage(content='', additional_kwargs={'tool_calls': [{'id': '230187744', 'function': {'arguments': '{\"query\":\"weather in Los Angeles\",\"include_domains\":[\"weather.com\",\"accuweather.com\"],\"search_depth\":\"basic\",\"include_images\":false}', 'name': 'tavily_search'}, 'type': 'function'}], 'refusal': None}, response_metadata={'token_usage': {'completion_tokens': 52, 'prompt_tokens': 2776, 'total_tokens': 2828, 'completion_tokens_details': None, 'prompt_tokens_details': None}, 'model_name': 'qwen/qwen3-4b-2507', 'system_fingerprint': 'qwen/qwen3-4b-2507', 'id': 'chatcmpl-408qndg1slyiav792gz4ha', 'service_tier': None, 'finish_reason': 'tool_calls', 'logprobs': None}, id='run--cbd8e7fc-f642-436b-af94-8abbc13f34ef-0', tool_calls=[{'name': 'tavily_search', 'args': {'query': 'weather in Los Angeles', 'include_domains': ['weather.com', 'accuweather.com'], 'search_depth': 'basic', 'include_images': False}, 'id': '230187744', 'type': 'tool_call'}], usage_metadata={'input_tokens': 2776, 'output_tokens': 52, 'total_tokens': 2828, 'input_token_details': {}, 'output_token_details': {}})]\n",
      "Calling Tool: {'name': 'tavily_search', 'args': {'query': 'weather in Los Angeles', 'include_domains': ['weather.com', 'accuweather.com'], 'search_depth': 'basic', 'include_images': False}, 'id': '230187744', 'type': 'tool_call'}\n",
      "Tool Result: {'query': 'weather in Los Angeles', 'follow_up_questions': None, 'answer': None, 'images': [], 'results': [{'title': 'Weather in Los Angeles', 'url': 'https://www.weatherapi.com/', 'content': \"{'location': {'name': 'Los Angeles', 'region': 'California', 'country': 'United States of America', 'lat': 34.0522, 'lon': -118.2428, 'tz_id': 'America/Los_Angeles', 'localtime_epoch': 1756177137, 'localtime': '2025-08-25 19:58'}, 'current': {'last_updated_epoch': 1756176300, 'last_updated': '2025-08-25 19:45', 'temp_c': 29.1, 'temp_f': 84.4, 'is_day': 0, 'condition': {'text': 'Sunny', 'icon': '//cdn.weatherapi.com/weather/64x64/night/113.png', 'code': 1000}, 'wind_mph': 8.1, 'wind_kph': 13.0, 'wind_degree': 186, 'wind_dir': 'S', 'pressure_mb': 1011.0, 'pressure_in': 29.86, 'precip_mm': 0.0, 'precip_in': 0.0, 'humidity': 48, 'cloud': 0, 'feelslike_c': 31.4, 'feelslike_f': 88.4, 'windchill_c': 26.8, 'windchill_f': 80.3, 'heatindex_c': 28.3, 'heatindex_f': 83.0, 'dewpoint_c': 18.4, 'dewpoint_f': 65.0, 'vis_km': 16.0, 'vis_miles': 9.0, 'uv': 0.0, 'gust_mph': 9.3, 'gust_kph': 14.9}}\", 'score': 0.9645306, 'raw_content': None}, {'url': 'https://www.accuweather.com/en/us/west-los-angeles/90025/april-weather/2142540', 'title': '2025 - West Los Angeles, CA Monthly Weather | AccuWeather', 'content': 'Get the monthly weather forecast for West Los Angeles, CA, including daily high/low, historical averages, to help you plan ahead.', 'score': 0.4757764, 'raw_content': None}], 'response_time': 1.14, 'request_id': 'a8b82d7b-b7a1-47ce-8c07-048b6c1f1e70'}\n",
      "Back to model!\n",
      "[ToolMessage(content='{\\'query\\': \\'weather in Los Angeles\\', \\'follow_up_questions\\': None, \\'answer\\': None, \\'images\\': [], \\'results\\': [{\\'title\\': \\'Weather in Los Angeles\\', \\'url\\': \\'https://www.weatherapi.com/\\', \\'content\\': \"{\\'location\\': {\\'name\\': \\'Los Angeles\\', \\'region\\': \\'California\\', \\'country\\': \\'United States of America\\', \\'lat\\': 34.0522, \\'lon\\': -118.2428, \\'tz_id\\': \\'America/Los_Angeles\\', \\'localtime_epoch\\': 1756177137, \\'localtime\\': \\'2025-08-25 19:58\\'}, \\'current\\': {\\'last_updated_epoch\\': 1756176300, \\'last_updated\\': \\'2025-08-25 19:45\\', \\'temp_c\\': 29.1, \\'temp_f\\': 84.4, \\'is_day\\': 0, \\'condition\\': {\\'text\\': \\'Sunny\\', \\'icon\\': \\'//cdn.weatherapi.com/weather/64x64/night/113.png\\', \\'code\\': 1000}, \\'wind_mph\\': 8.1, \\'wind_kph\\': 13.0, \\'wind_degree\\': 186, \\'wind_dir\\': \\'S\\', \\'pressure_mb\\': 1011.0, \\'pressure_in\\': 29.86, \\'precip_mm\\': 0.0, \\'precip_in\\': 0.0, \\'humidity\\': 48, \\'cloud\\': 0, \\'feelslike_c\\': 31.4, \\'feelslike_f\\': 88.4, \\'windchill_c\\': 26.8, \\'windchill_f\\': 80.3, \\'heatindex_c\\': 28.3, \\'heatindex_f\\': 83.0, \\'dewpoint_c\\': 18.4, \\'dewpoint_f\\': 65.0, \\'vis_km\\': 16.0, \\'vis_miles\\': 9.0, \\'uv\\': 0.0, \\'gust_mph\\': 9.3, \\'gust_kph\\': 14.9}}\", \\'score\\': 0.9645306, \\'raw_content\\': None}, {\\'url\\': \\'https://www.accuweather.com/en/us/west-los-angeles/90025/april-weather/2142540\\', \\'title\\': \\'2025 - West Los Angeles, CA Monthly Weather | AccuWeather\\', \\'content\\': \\'Get the monthly weather forecast for West Los Angeles, CA, including daily high/low, historical averages, to help you plan ahead.\\', \\'score\\': 0.4757764, \\'raw_content\\': None}], \\'response_time\\': 1.14, \\'request_id\\': \\'a8b82d7b-b7a1-47ce-8c07-048b6c1f1e70\\'}', name='tavily_search', tool_call_id='230187744')]\n",
      "[AIMessage(content='The current weather in Los Angeles is sunny. The temperature is 29.1°C (84.4°F), with a feels-like temperature of 31.4°C (88.4°F) due to the heat. The humidity is 48%, and there is no precipitation. The wind speed is 8.1 mph from the south, and the dew point is 18.4°C (65.0°F). The UV index is currently 0.0, indicating no sun protection is needed. \\n\\nThis is a pleasant, warm day in Los Angeles, ideal for outdoor activities.', additional_kwargs={'refusal': None}, response_metadata={'token_usage': {'completion_tokens': 128, 'prompt_tokens': 3524, 'total_tokens': 3652, 'completion_tokens_details': None, 'prompt_tokens_details': None}, 'model_name': 'qwen/qwen3-4b-2507', 'system_fingerprint': 'qwen/qwen3-4b-2507', 'id': 'chatcmpl-v7vmas4qozfecgf5hbo7', 'service_tier': None, 'finish_reason': 'stop', 'logprobs': None}, id='run--c35761f2-b8bd-4abf-9b04-b62e2a15acf1-0', usage_metadata={'input_tokens': 3524, 'output_tokens': 128, 'total_tokens': 3652, 'input_token_details': {}, 'output_token_details': {}})]\n",
      "==================================================\n",
      "The current weather in Los Angeles is sunny. The temperature is 29.1°C (84.4°F), with a feels-like temperature of 31.4°C (88.4°F) due to the heat. The humidity is 48%, and there is no precipitation. The wind speed is 8.1 mph from the south, and the dew point is 18.4°C (65.0°F). The UV index is currently 0.0, indicating no sun protection is needed. \n",
      "\n",
      "This is a pleasant, warm day in Los Angeles, ideal for outdoor activities.\n",
      "==================================================\n"
     ]
    }
   ],
   "source": [
    "stream_agent_sysout(\n",
    "    agent, \n",
    "    thread_id = \"1\", \n",
    "    user_input=\"How about LA?\"\n",
    ")"
   ]
  },
  {
   "cell_type": "code",
   "execution_count": 6,
   "id": "8c8ec28c",
   "metadata": {},
   "outputs": [
    {
     "name": "stdout",
     "output_type": "stream",
     "text": [
      "[AIMessage(content=\"I need more information to answer your question. Could you please specify what you're comparing? For example, are you asking which is hotter between two places, two objects, or two types of temperatures (like the sun vs. a campfire)? Let me know so I can provide a more accurate answer.\", additional_kwargs={'refusal': None}, response_metadata={'token_usage': {'completion_tokens': 62, 'prompt_tokens': 1867, 'total_tokens': 1929, 'completion_tokens_details': None, 'prompt_tokens_details': None}, 'model_name': 'qwen/qwen3-4b-2507', 'system_fingerprint': 'qwen/qwen3-4b-2507', 'id': 'chatcmpl-ppxi2a04npjrhpjpeczzid', 'service_tier': None, 'finish_reason': 'stop', 'logprobs': None}, id='run--97399de8-29c9-479e-a0be-09b5f8a63f5c-0', usage_metadata={'input_tokens': 1867, 'output_tokens': 62, 'total_tokens': 1929, 'input_token_details': {}, 'output_token_details': {}})]\n",
      "==================================================\n",
      "I need more information to answer your question. Could you please specify what you're comparing? For example, are you asking which is hotter between two places, two objects, or two types of temperatures (like the sun vs. a campfire)? Let me know so I can provide a more accurate answer.\n",
      "==================================================\n"
     ]
    }
   ],
   "source": [
    "stream_agent_sysout(\n",
    "    agent, \n",
    "    thread_id = \"2\", \n",
    "    user_input=\"Which one is hotter?\"\n",
    ")"
   ]
  },
  {
   "cell_type": "code",
   "execution_count": 7,
   "id": "0bddac7f",
   "metadata": {},
   "outputs": [
    {
     "name": "stdout",
     "output_type": "stream",
     "text": [
      "[AIMessage(content='San Francisco is cooler, with a temperature of 18.3°C (64.9°F), while Los Angeles is hotter at 29.1°C (84.4°F). Therefore, Los Angeles is hotter than San Francisco.', additional_kwargs={'refusal': None}, response_metadata={'token_usage': {'completion_tokens': 52, 'prompt_tokens': 3666, 'total_tokens': 3718, 'completion_tokens_details': None, 'prompt_tokens_details': None}, 'model_name': 'qwen/qwen3-4b-2507', 'system_fingerprint': 'qwen/qwen3-4b-2507', 'id': 'chatcmpl-6am5x4tagn2fnjzgr01q0e', 'service_tier': None, 'finish_reason': 'stop', 'logprobs': None}, id='run--0c8d35ae-13a7-419f-a78d-377031e54f88-0', usage_metadata={'input_tokens': 3666, 'output_tokens': 52, 'total_tokens': 3718, 'input_token_details': {}, 'output_token_details': {}})]\n",
      "==================================================\n",
      "San Francisco is cooler, with a temperature of 18.3°C (64.9°F), while Los Angeles is hotter at 29.1°C (84.4°F). Therefore, Los Angeles is hotter than San Francisco.\n",
      "==================================================\n"
     ]
    }
   ],
   "source": [
    "# We don't see any tool calls as the LLM has already in its context from conversation earlier.\n",
    "stream_agent_sysout(\n",
    "    agent, \n",
    "    thread_id = \"1\", \n",
    "    user_input=\"Which one is hotter?\"\n",
    ")"
   ]
  },
  {
   "cell_type": "code",
   "execution_count": 8,
   "id": "bc378c79",
   "metadata": {},
   "outputs": [
    {
     "name": "stdout",
     "output_type": "stream",
     "text": [
      "\n",
      "=== All threads in memory ===\n",
      "\n",
      "=== Inspecting thread {'configurable': {'thread_id': '1'}} ===\n",
      "Thread ID: {'configurable': {'thread_id': '1'}}\n",
      "state: {'messages': [HumanMessage(content='What is the weather in SF?', additional_kwargs={}, response_metadata={}), AIMessage(content='', additional_kwargs={'tool_calls': [{'id': '206668732', 'function': {'arguments': '{\"query\":\"weather in San Francisco\",\"include_domains\":[\"weather.com\",\"accuweather.com\"],\"search_depth\":\"basic\",\"include_images\":false}', 'name': 'tavily_search'}, 'type': 'function'}], 'refusal': None}, response_metadata={'token_usage': {'completion_tokens': 52, 'prompt_tokens': 1869, 'total_tokens': 1921, 'completion_tokens_details': None, 'prompt_tokens_details': None}, 'model_name': 'qwen/qwen3-4b-2507', 'system_fingerprint': 'qwen/qwen3-4b-2507', 'id': 'chatcmpl-wmg3rieytvfd13coknxcxw', 'service_tier': None, 'finish_reason': 'tool_calls', 'logprobs': None}, id='run--95f6db57-19da-4c1d-a990-6a7726df8cf6-0', tool_calls=[{'name': 'tavily_search', 'args': {'query': 'weather in San Francisco', 'include_domains': ['weather.com', 'accuweather.com'], 'search_depth': 'basic', 'include_images': False}, 'id': '206668732', 'type': 'tool_call'}], usage_metadata={'input_tokens': 1869, 'output_tokens': 52, 'total_tokens': 1921, 'input_token_details': {}, 'output_token_details': {}}), ToolMessage(content='{\\'query\\': \\'weather in San Francisco\\', \\'follow_up_questions\\': None, \\'answer\\': None, \\'images\\': [], \\'results\\': [{\\'title\\': \\'Weather in San Francisco\\', \\'url\\': \\'https://www.weatherapi.com/\\', \\'content\\': \"{\\'location\\': {\\'name\\': \\'San Francisco\\', \\'region\\': \\'California\\', \\'country\\': \\'United States of America\\', \\'lat\\': 37.775, \\'lon\\': -122.4183, \\'tz_id\\': \\'America/Los_Angeles\\', \\'localtime_epoch\\': 1756177123, \\'localtime\\': \\'2025-08-25 19:58\\'}, \\'current\\': {\\'last_updated_epoch\\': 1756176300, \\'last_updated\\': \\'2025-08-25 19:45\\', \\'temp_c\\': 18.3, \\'temp_f\\': 64.9, \\'is_day\\': 0, \\'condition\\': {\\'text\\': \\'Partly cloudy\\', \\'icon\\': \\'//cdn.weatherapi.com/weather/64x64/night/116.png\\', \\'code\\': 1003}, \\'wind_mph\\': 9.8, \\'wind_kph\\': 15.8, \\'wind_degree\\': 256, \\'wind_dir\\': \\'WSW\\', \\'pressure_mb\\': 1012.0, \\'pressure_in\\': 29.87, \\'precip_mm\\': 0.0, \\'precip_in\\': 0.0, \\'humidity\\': 78, \\'cloud\\': 50, \\'feelslike_c\\': 18.3, \\'feelslike_f\\': 64.9, \\'windchill_c\\': 14.6, \\'windchill_f\\': 58.4, \\'heatindex_c\\': 15.0, \\'heatindex_f\\': 59.0, \\'dewpoint_c\\': 13.9, \\'dewpoint_f\\': 56.9, \\'vis_km\\': 16.0, \\'vis_miles\\': 9.0, \\'uv\\': 0.2, \\'gust_mph\\': 14.5, \\'gust_kph\\': 23.4}}\", \\'score\\': 0.9351295, \\'raw_content\\': None}, {\\'url\\': \\'https://www.accuweather.com/en/us/san-francisco/94103/weather-tomorrow/347629\\', \\'title\\': \\'Weather Tomorrow for San Francisco, CA - AccuWeather\\', \\'content\\': \\'Tuesday, August 26. Day. 69°Hi. RealFeel® 72°. Low clouds breaking for some sun. RealFeel®72°. RealFeel Shade™65°. Max UV Index7 (High). AccuLumen Brightness\\', \\'score\\': 0.85421735, \\'raw_content\\': None}], \\'response_time\\': 0.85, \\'request_id\\': \\'ba575d3d-8523-4ccf-84f8-3628d1186e1a\\'}', name='tavily_search', tool_call_id='206668732'), AIMessage(content='The current weather in San Francisco is partly cloudy. The temperature is 18.3°C (64.9°F), with a wind speed of 9.8 mph from the west-southwest. The humidity is 78%, and the wind chill is 14.6°C (58.4°F). There is no precipitation, and the dew point is 13.9°C (56.9°F). The conditions are expected to remain partly cloudy throughout the day. \\n\\nFor more details, you can refer to the official weather forecast.', additional_kwargs={'refusal': None}, response_metadata={'token_usage': {'completion_tokens': 118, 'prompt_tokens': 2645, 'total_tokens': 2763, 'completion_tokens_details': None, 'prompt_tokens_details': None}, 'model_name': 'qwen/qwen3-4b-2507', 'system_fingerprint': 'qwen/qwen3-4b-2507', 'id': 'chatcmpl-br2j0zie9qa946y9wif49', 'service_tier': None, 'finish_reason': 'stop', 'logprobs': None}, id='run--13a0c36e-432d-47b2-9296-39643291b417-0', usage_metadata={'input_tokens': 2645, 'output_tokens': 118, 'total_tokens': 2763, 'input_token_details': {}, 'output_token_details': {}}), HumanMessage(content='How about LA?', additional_kwargs={}, response_metadata={}), AIMessage(content='', additional_kwargs={'tool_calls': [{'id': '230187744', 'function': {'arguments': '{\"query\":\"weather in Los Angeles\",\"include_domains\":[\"weather.com\",\"accuweather.com\"],\"search_depth\":\"basic\",\"include_images\":false}', 'name': 'tavily_search'}, 'type': 'function'}], 'refusal': None}, response_metadata={'token_usage': {'completion_tokens': 52, 'prompt_tokens': 2776, 'total_tokens': 2828, 'completion_tokens_details': None, 'prompt_tokens_details': None}, 'model_name': 'qwen/qwen3-4b-2507', 'system_fingerprint': 'qwen/qwen3-4b-2507', 'id': 'chatcmpl-408qndg1slyiav792gz4ha', 'service_tier': None, 'finish_reason': 'tool_calls', 'logprobs': None}, id='run--cbd8e7fc-f642-436b-af94-8abbc13f34ef-0', tool_calls=[{'name': 'tavily_search', 'args': {'query': 'weather in Los Angeles', 'include_domains': ['weather.com', 'accuweather.com'], 'search_depth': 'basic', 'include_images': False}, 'id': '230187744', 'type': 'tool_call'}], usage_metadata={'input_tokens': 2776, 'output_tokens': 52, 'total_tokens': 2828, 'input_token_details': {}, 'output_token_details': {}}), ToolMessage(content='{\\'query\\': \\'weather in Los Angeles\\', \\'follow_up_questions\\': None, \\'answer\\': None, \\'images\\': [], \\'results\\': [{\\'title\\': \\'Weather in Los Angeles\\', \\'url\\': \\'https://www.weatherapi.com/\\', \\'content\\': \"{\\'location\\': {\\'name\\': \\'Los Angeles\\', \\'region\\': \\'California\\', \\'country\\': \\'United States of America\\', \\'lat\\': 34.0522, \\'lon\\': -118.2428, \\'tz_id\\': \\'America/Los_Angeles\\', \\'localtime_epoch\\': 1756177137, \\'localtime\\': \\'2025-08-25 19:58\\'}, \\'current\\': {\\'last_updated_epoch\\': 1756176300, \\'last_updated\\': \\'2025-08-25 19:45\\', \\'temp_c\\': 29.1, \\'temp_f\\': 84.4, \\'is_day\\': 0, \\'condition\\': {\\'text\\': \\'Sunny\\', \\'icon\\': \\'//cdn.weatherapi.com/weather/64x64/night/113.png\\', \\'code\\': 1000}, \\'wind_mph\\': 8.1, \\'wind_kph\\': 13.0, \\'wind_degree\\': 186, \\'wind_dir\\': \\'S\\', \\'pressure_mb\\': 1011.0, \\'pressure_in\\': 29.86, \\'precip_mm\\': 0.0, \\'precip_in\\': 0.0, \\'humidity\\': 48, \\'cloud\\': 0, \\'feelslike_c\\': 31.4, \\'feelslike_f\\': 88.4, \\'windchill_c\\': 26.8, \\'windchill_f\\': 80.3, \\'heatindex_c\\': 28.3, \\'heatindex_f\\': 83.0, \\'dewpoint_c\\': 18.4, \\'dewpoint_f\\': 65.0, \\'vis_km\\': 16.0, \\'vis_miles\\': 9.0, \\'uv\\': 0.0, \\'gust_mph\\': 9.3, \\'gust_kph\\': 14.9}}\", \\'score\\': 0.9645306, \\'raw_content\\': None}, {\\'url\\': \\'https://www.accuweather.com/en/us/west-los-angeles/90025/april-weather/2142540\\', \\'title\\': \\'2025 - West Los Angeles, CA Monthly Weather | AccuWeather\\', \\'content\\': \\'Get the monthly weather forecast for West Los Angeles, CA, including daily high/low, historical averages, to help you plan ahead.\\', \\'score\\': 0.4757764, \\'raw_content\\': None}], \\'response_time\\': 1.14, \\'request_id\\': \\'a8b82d7b-b7a1-47ce-8c07-048b6c1f1e70\\'}', name='tavily_search', tool_call_id='230187744'), AIMessage(content='The current weather in Los Angeles is sunny. The temperature is 29.1°C (84.4°F), with a feels-like temperature of 31.4°C (88.4°F) due to the heat. The humidity is 48%, and there is no precipitation. The wind speed is 8.1 mph from the south, and the dew point is 18.4°C (65.0°F). The UV index is currently 0.0, indicating no sun protection is needed. \\n\\nThis is a pleasant, warm day in Los Angeles, ideal for outdoor activities.', additional_kwargs={'refusal': None}, response_metadata={'token_usage': {'completion_tokens': 128, 'prompt_tokens': 3524, 'total_tokens': 3652, 'completion_tokens_details': None, 'prompt_tokens_details': None}, 'model_name': 'qwen/qwen3-4b-2507', 'system_fingerprint': 'qwen/qwen3-4b-2507', 'id': 'chatcmpl-v7vmas4qozfecgf5hbo7', 'service_tier': None, 'finish_reason': 'stop', 'logprobs': None}, id='run--c35761f2-b8bd-4abf-9b04-b62e2a15acf1-0', usage_metadata={'input_tokens': 3524, 'output_tokens': 128, 'total_tokens': 3652, 'input_token_details': {}, 'output_token_details': {}}), HumanMessage(content='Which one is hotter?', additional_kwargs={}, response_metadata={}), AIMessage(content='San Francisco is cooler, with a temperature of 18.3°C (64.9°F), while Los Angeles is hotter at 29.1°C (84.4°F). Therefore, Los Angeles is hotter than San Francisco.', additional_kwargs={'refusal': None}, response_metadata={'token_usage': {'completion_tokens': 52, 'prompt_tokens': 3666, 'total_tokens': 3718, 'completion_tokens_details': None, 'prompt_tokens_details': None}, 'model_name': 'qwen/qwen3-4b-2507', 'system_fingerprint': 'qwen/qwen3-4b-2507', 'id': 'chatcmpl-6am5x4tagn2fnjzgr01q0e', 'service_tier': None, 'finish_reason': 'stop', 'logprobs': None}, id='run--0c8d35ae-13a7-419f-a78d-377031e54f88-0', usage_metadata={'input_tokens': 3666, 'output_tokens': 52, 'total_tokens': 3718, 'input_token_details': {}, 'output_token_details': {}})]}\n",
      "\n",
      "=== Inspecting thread {'configurable': {'thread_id': '2'}} ===\n",
      "Thread ID: {'configurable': {'thread_id': '2'}}\n",
      "state: {'messages': [HumanMessage(content='Which one is hotter?', additional_kwargs={}, response_metadata={}), AIMessage(content=\"I need more information to answer your question. Could you please specify what you're comparing? For example, are you asking which is hotter between two places, two objects, or two types of temperatures (like the sun vs. a campfire)? Let me know so I can provide a more accurate answer.\", additional_kwargs={'refusal': None}, response_metadata={'token_usage': {'completion_tokens': 62, 'prompt_tokens': 1867, 'total_tokens': 1929, 'completion_tokens_details': None, 'prompt_tokens_details': None}, 'model_name': 'qwen/qwen3-4b-2507', 'system_fingerprint': 'qwen/qwen3-4b-2507', 'id': 'chatcmpl-ppxi2a04npjrhpjpeczzid', 'service_tier': None, 'finish_reason': 'stop', 'logprobs': None}, id='run--97399de8-29c9-479e-a0be-09b5f8a63f5c-0', usage_metadata={'input_tokens': 1867, 'output_tokens': 62, 'total_tokens': 1929, 'input_token_details': {}, 'output_token_details': {}})]}\n"
     ]
    }
   ],
   "source": [
    "def inspect_memory(checkpointer, thread):\n",
    "    print(f\"\\n=== Inspecting thread {thread} ===\")\n",
    "    checkpoint = checkpointer.get(thread)\n",
    "    if checkpoint:\n",
    "        print(f\"Thread ID: {thread}\")\n",
    "        print(f\"state: {checkpoint['channel_values']}\")\n",
    "    else:\n",
    "        print(f\"No checkpoint found for thread {thread_id}\")\n",
    "\n",
    "print(\"\\n=== All threads in memory ===\")\n",
    "for thread_id in [\"1\", \"2\"]:\n",
    "    thread = { \"configurable\": { \"thread_id\": thread_id } }\n",
    "    inspect_memory(shared_memory, thread)"
   ]
  },
  {
   "cell_type": "code",
   "execution_count": 9,
   "id": "a4a16b7b",
   "metadata": {},
   "outputs": [
    {
     "name": "stdout",
     "output_type": "stream",
     "text": [
      "AgentState: Accumulates messages during one graph execution\n",
      "Memory: Preserves messages across multiple graph executions\n",
      "\n",
      "# Without checkpointer\n",
      "Turn 1: AgentState = [Msg1, Response1] → ❌ Lost after execution\n",
      "Turn 2: AgentState = [Msg2, Response2] → ❌ Lost after execution\n",
      "\n",
      "# With checkpointer (per each thread)  \n",
      "Turn 1: AgentState = [Msg1, Response1] → ✅ Saved to memory\n",
      "Turn 2: AgentState = [Msg1, Response1, Msg2, Response2] → ✅ Saved to memory\n",
      "Turn 3: AgentState = [Msg1, Response1, Msg2, Response2, Msg3, Response3] → ✅ Saved to memory\n",
      "\n"
     ]
    }
   ],
   "source": [
    "print(\"AgentState: Accumulates messages during one graph execution\")\n",
    "print(\"Memory: Preserves messages across multiple graph executions\")\n",
    "\n",
    "print(\"\"\"\n",
    "# Without checkpointer\n",
    "Turn 1: AgentState = [Msg1, Response1] → ❌ Lost after execution\n",
    "Turn 2: AgentState = [Msg2, Response2] → ❌ Lost after execution\n",
    "\n",
    "# With checkpointer (per each thread)  \n",
    "Turn 1: AgentState = [Msg1, Response1] → ✅ Saved to memory\n",
    "Turn 2: AgentState = [Msg1, Response1, Msg2, Response2] → ✅ Saved to memory\n",
    "Turn 3: AgentState = [Msg1, Response1, Msg2, Response2, Msg3, Response3] → ✅ Saved to memory\n",
    "\"\"\")"
   ]
  },
  {
   "cell_type": "markdown",
   "id": "cd5bb4e0",
   "metadata": {},
   "source": [
    "# Streaming Tokens\n",
    "Need Async streaming checkpointer"
   ]
  },
  {
   "cell_type": "code",
   "execution_count": 10,
   "id": "a9cb785f",
   "metadata": {},
   "outputs": [
    {
     "name": "stdout",
     "output_type": "stream",
     "text": [
      "Calling Tool: {'name': 'tavily_search', 'args': {'query': 'weather in San Francisco', 'include_domains': ['weather.com', 'accuweather.com'], 'search_depth': 'basic', 'include_images': False}, 'id': '380469545', 'type': 'tool_call'}\n",
      "Tool Result: {'query': 'weather in San Francisco', 'follow_up_questions': None, 'answer': None, 'images': [], 'results': [{'title': 'Weather in San Francisco', 'url': 'https://www.weatherapi.com/', 'content': \"{'location': {'name': 'San Francisco', 'region': 'California', 'country': 'United States of America', 'lat': 37.775, 'lon': -122.4183, 'tz_id': 'America/Los_Angeles', 'localtime_epoch': 1756177123, 'localtime': '2025-08-25 19:58'}, 'current': {'last_updated_epoch': 1756176300, 'last_updated': '2025-08-25 19:45', 'temp_c': 18.3, 'temp_f': 64.9, 'is_day': 0, 'condition': {'text': 'Partly cloudy', 'icon': '//cdn.weatherapi.com/weather/64x64/night/116.png', 'code': 1003}, 'wind_mph': 9.8, 'wind_kph': 15.8, 'wind_degree': 256, 'wind_dir': 'WSW', 'pressure_mb': 1012.0, 'pressure_in': 29.87, 'precip_mm': 0.0, 'precip_in': 0.0, 'humidity': 78, 'cloud': 50, 'feelslike_c': 18.3, 'feelslike_f': 64.9, 'windchill_c': 14.6, 'windchill_f': 58.4, 'heatindex_c': 15.0, 'heatindex_f': 59.0, 'dewpoint_c': 13.9, 'dewpoint_f': 56.9, 'vis_km': 16.0, 'vis_miles': 9.0, 'uv': 0.2, 'gust_mph': 14.5, 'gust_kph': 23.4}}\", 'score': 0.9351295, 'raw_content': None}, {'url': 'https://www.accuweather.com/en/us/san-francisco/94103/weather-tomorrow/347629', 'title': 'Weather Tomorrow for San Francisco, CA - AccuWeather', 'content': 'Tuesday, August 26. Day. 69°Hi. RealFeel® 72°. Low clouds breaking for some sun. RealFeel®72°. RealFeel Shade™65°. Max UV Index7 (High). AccuLumen Brightness', 'score': 0.85421735, 'raw_content': None}], 'response_time': 1.18, 'request_id': 'fa4071bd-3e38-439e-950a-b8e912a8e4ca'}\n",
      "Back to model!\n",
      "The| current| weather| in| San| Francisco| is| partly| cloudy| with| a| temperature| of| 1|8|.|3|°C| (|6|4|.|9|°F|).| The| wind| is| from| the| west|-s|outh|west| at| 9|.|8| mph| (|1|5|.|8| k|ph|),| with| a| wind| chill| of| 1|4|.|6|°C| (|5|8|.|4|°F|).| The| humidity| is| 7|8|%,| and| the| cloud| cover| is| at| 5|0|%.| There| is| no| precipitation|,| and| the| dew| point| is| 1|3|.|9|°C| (|5|6|.|9|°F|).| The| UV| index| is| low| at| 0|.|2|.\n",
      "\n",
      "|Tomorrow|,| the| temperature| is| expected| to| reach| a| high| of| 6|9|°F| (|2|0|.|5|°C|),| with| a| Real|Feel|®| temperature| of| 7|2|°F|.| The| sky| will| have| low| clouds| breaking| for| some| sun|,| and| the| UV| index| will| be| high| at| 7|.|"
     ]
    }
   ],
   "source": [
    "from langgraph.checkpoint.sqlite.aio import AsyncSqliteSaver\n",
    "import aiosqlite\n",
    "\n",
    "ashared_memory = AsyncSqliteSaver(aiosqlite.connect(\":memory:\", check_same_thread=False))\n",
    "async_agent = LangGraphAgent(model, tools=tools, check_pointer=ashared_memory, system_message=sys_prompt)\n",
    "\n",
    "user_msg = HumanMessage(content=\"What is the weather in SF?\")\n",
    "thread = { \"configurable\": { \"thread_id\": \"4\" } }\n",
    "async for event in async_agent.graph.astream_events({\"messages\": [user_msg]}, thread):\n",
    "    if event[\"event\"] == \"on_chat_model_stream\":\n",
    "        content = event[\"data\"][\"chunk\"].content\n",
    "        # if content is none, means the llm is\n",
    "        #   asking for tool call.\n",
    "        if content:\n",
    "            print(content, end=\"|\")"
   ]
  },
  {
   "cell_type": "markdown",
   "id": "16f44d90",
   "metadata": {},
   "source": [
    "# Human in loop\n",
    "stop and ask if agent can run the tool"
   ]
  },
  {
   "cell_type": "code",
   "execution_count": 11,
   "id": "56b5e339",
   "metadata": {},
   "outputs": [],
   "source": [
    "import uuid\n",
    "from langchain_core.messages import AnyMessage\n",
    "\n",
    "\n",
    "# merge messages with same id\n",
    "def reduce_messages(left: list[AnyMessage], right: list[AnyMessage]) -> list[AnyMessage]:\n",
    "    for message in right:\n",
    "        if not hasattr(message, 'id') or not message.id:\n",
    "            message.id = str(uuid.uuid4())\n",
    "\n",
    "    merged = left.copy()\n",
    "    for message in right:\n",
    "        for i, existing_message in enumerate(merged):\n",
    "            if existing_message.id == message.id:\n",
    "                merged[i] = message\n",
    "                break\n",
    "        else:\n",
    "            merged.append(message)\n",
    "    return merged"
   ]
  },
  {
   "cell_type": "code",
   "execution_count": 32,
   "id": "5cc5a796",
   "metadata": {},
   "outputs": [],
   "source": [
    "from langchain_openai import ChatOpenAI\n",
    "from langchain_tavily import TavilySearch\n",
    "from langchain_core.messages import BaseMessage, AnyMessage\n",
    "from langgraph.graph import StateGraph\n",
    "\n",
    "from typing import Annotated, TypedDict\n",
    "\n",
    "import sys\n",
    "\n",
    "model = ChatOpenAI(\n",
    "    base_url=\"http://localhost:1234/v1\",\n",
    "    model=\"qwen/qwen3-4b-2507\",\n",
    "    api_key=OPENAI_API_KEY,\n",
    "    temperature=0.0,\n",
    ")\n",
    "\n",
    "tools = [\n",
    "    TavilySearch(\n",
    "        max_results=2, \n",
    "        tavily_api_key=TAVILY_API_KEY\n",
    "    )\n",
    "]\n",
    "\n",
    "class AgentState(TypedDict):\n",
    "    messages: Annotated[list[AnyMessage], reduce_messages]\n",
    "\n",
    "class InteractiveGraphAgent:\n",
    "    def __init__(self, model, tools, checkpointer, system_message):\n",
    "        self.model = model.bind_tools(tools)\n",
    "        self.tools = {tool.name: tool for tool in tools}\n",
    "        self.system_message = system_message\n",
    "\n",
    "        graph = StateGraph(AgentState)\n",
    "        graph.add_node(\"llm\", self._call_llm)\n",
    "        graph.add_node(\"action\", self._call_action)\n",
    "\n",
    "        graph.add_conditional_edges(\n",
    "            \"llm\",\n",
    "            self._exists_action,\n",
    "            {\n",
    "                True: \"action\",\n",
    "                False: END\n",
    "            }\n",
    "        )\n",
    "        graph.add_edge(\"action\", \"llm\")\n",
    "        graph.set_entry_point(\"llm\")\n",
    "\n",
    "        self.graph = graph.compile(\n",
    "            checkpointer=checkpointer,\n",
    "            interrupt_before=[\"action\"]\n",
    "        )\n",
    "    \n",
    "    def _exists_action(self, state: AgentState) -> bool:\n",
    "        last_message = state[\"messages\"][-1]\n",
    "        return hasattr(last_message, 'tool_calls') and last_message.tool_calls and len(last_message.tool_calls) > 0\n",
    "    \n",
    "    def _call_llm(self, state: AgentState) -> BaseMessage:\n",
    "        messages = [SystemMessage(content=self.system_message)] + state[\"messages\"]\n",
    "        message = self.model.invoke(messages)\n",
    "        return {\"messages\": [message]}\n",
    "\n",
    "    def _call_action(self, state: AgentState) -> BaseMessage:\n",
    "        results = []\n",
    "        tool_calls = state[\"messages\"][-1].tool_calls\n",
    "        for tool_call in tool_calls:\n",
    "            print(f\"Calling Tool: {tool_call}\")\n",
    "            if tool_call[\"name\"] in self.tools:\n",
    "                tool = self.tools[tool_call[\"name\"]]\n",
    "                result = tool.invoke(tool_call[\"args\"])\n",
    "                print(f\"Tool Result: {result}\")\n",
    "                results.append(ToolMessage(content=str(result), tool_call_id=tool_call[\"id\"], name=tool_call[\"name\"]))   \n",
    "        print(\"Back to model!\")\n",
    "        return {\"messages\": results}\n",
    "\n",
    "    def run(self, user_input: str, thread_id: str):\n",
    "        messages = { \"messages\": [HumanMessage(content=user_input)] }\n",
    "        thread = { \"configurable\": { \"thread_id\": thread_id } }\n",
    "\n",
    "        break_outer = False\n",
    "        while True:\n",
    "            for event in self.graph.stream(messages, thread):\n",
    "                if '__interrupt__' in event:\n",
    "                    print(\"Interrupted for tool use!\")\n",
    "                    print(\"next node is\", self.graph.get_state(thread).next)\n",
    "                    user_response = input(\"Continue? (y/n): \")\n",
    "                    sys.stdout.flush()\n",
    "                    if user_response.lower() != 'y':\n",
    "                        break_outer = True\n",
    "                    else:\n",
    "                        print(\"Resuming...\")\n",
    "                        messages = None\n",
    "                    break\n",
    "                else:\n",
    "                    for v in event.values():\n",
    "                        print(v)\n",
    "                        last_message = v['messages'][-1].content\n",
    "            else:\n",
    "                break_outer = True\n",
    "\n",
    "            if break_outer:\n",
    "                break\n",
    "\n",
    "        print(\"=\"*50)\n",
    "        print(last_message)\n",
    "        print(\"=\"*50)\n",
    "\n",
    "\n",
    "from langgraph.checkpoint.sqlite import SqliteSaver\n",
    "import sqlite3\n",
    "\n",
    "shared_memory = SqliteSaver(sqlite3.connect(\":memory:\", check_same_thread=False))\n",
    "\n",
    "sys_prompt = \"\"\"\n",
    "You are a smart research assistant. Use the search engine to find the answer to the user's question.\n",
    "You are allowed to make multiple calls (either together or in sequence).\n",
    "\"\"\"\n",
    "\n",
    "agent = InteractiveGraphAgent(model, tools=tools, checkpointer=shared_memory, system_message=sys_prompt)\n"
   ]
  },
  {
   "cell_type": "code",
   "execution_count": 42,
   "id": "b39f0ed5",
   "metadata": {},
   "outputs": [
    {
     "name": "stdout",
     "output_type": "stream",
     "text": [
      "{'messages': [AIMessage(content='The current weather in San Francisco is partly cloudy with a temperature of 18.3°C (64.9°F). The wind is from the west-southwest at 9.8 mph (15.8 kph), with a wind chill of 14.6°C (58.4°F). The humidity is 78%, and the cloud cover is at 50%. There is no precipitation, and the dew point is 13.9°C (56.9°F). \\n\\nThe weather is expected to be partly cloudy with a high of 69°F (20.5°C) and a low of around 65°F (18.3°C) tomorrow, with a UV index of 7 (High). \\n\\nFor more details, you can refer to the official weather sources.', additional_kwargs={'refusal': None}, response_metadata={'token_usage': {'completion_tokens': 174, 'prompt_tokens': 3008, 'total_tokens': 3182, 'completion_tokens_details': None, 'prompt_tokens_details': None}, 'model_name': 'qwen/qwen3-4b-2507', 'system_fingerprint': 'qwen/qwen3-4b-2507', 'id': 'chatcmpl-gf752rlz6qiiund214ygh', 'service_tier': None, 'finish_reason': 'stop', 'logprobs': None}, id='run--3d4b9138-fef9-4083-a614-543248bb55bb-0', usage_metadata={'input_tokens': 3008, 'output_tokens': 174, 'total_tokens': 3182, 'input_token_details': {}, 'output_token_details': {}})]}\n",
      "==================================================\n",
      "The current weather in San Francisco is partly cloudy with a temperature of 18.3°C (64.9°F). The wind is from the west-southwest at 9.8 mph (15.8 kph), with a wind chill of 14.6°C (58.4°F). The humidity is 78%, and the cloud cover is at 50%. There is no precipitation, and the dew point is 13.9°C (56.9°F). \n",
      "\n",
      "The weather is expected to be partly cloudy with a high of 69°F (20.5°C) and a low of around 65°F (18.3°C) tomorrow, with a UV index of 7 (High). \n",
      "\n",
      "For more details, you can refer to the official weather sources.\n",
      "==================================================\n"
     ]
    }
   ],
   "source": [
    "thread_id = \"5\"\n",
    "agent.run(user_input=\"What is the weather in SF?\", thread_id=thread_id)\n"
   ]
  },
  {
   "cell_type": "code",
   "execution_count": 43,
   "id": "7114a95c",
   "metadata": {},
   "outputs": [
    {
     "name": "stdout",
     "output_type": "stream",
     "text": [
      "StateSnapshot(values={'messages': [HumanMessage(content='What is the weather in SF?', additional_kwargs={}, response_metadata={}, id='5bc42af0-a7f8-42dd-990e-dcfb1e3a4457'), AIMessage(content='', additional_kwargs={'tool_calls': [{'id': '317224118', 'function': {'arguments': '{\"query\":\"weather in San Francisco\",\"include_domains\":[\"weather.com\",\"accuweather.com\"],\"search_depth\":\"basic\",\"include_images\":false}', 'name': 'tavily_search'}, 'type': 'function'}], 'refusal': None}, response_metadata={'token_usage': {'completion_tokens': 52, 'prompt_tokens': 1856, 'total_tokens': 1908, 'completion_tokens_details': None, 'prompt_tokens_details': None}, 'model_name': 'qwen/qwen3-4b-2507', 'system_fingerprint': 'qwen/qwen3-4b-2507', 'id': 'chatcmpl-6y1omza6typit370roice', 'service_tier': None, 'finish_reason': 'tool_calls', 'logprobs': None}, id='run--21fd9ce0-b9fb-44ff-8c02-28d4f9bf380e-0', tool_calls=[{'name': 'tavily_search', 'args': {'query': 'weather in San Francisco', 'include_domains': ['weather.com', 'accuweather.com'], 'search_depth': 'basic', 'include_images': False}, 'id': '317224118', 'type': 'tool_call'}], usage_metadata={'input_tokens': 1856, 'output_tokens': 52, 'total_tokens': 1908, 'input_token_details': {}, 'output_token_details': {}}), ToolMessage(content='{\\'query\\': \\'weather in San Francisco\\', \\'follow_up_questions\\': None, \\'answer\\': None, \\'images\\': [], \\'results\\': [{\\'title\\': \\'Weather in San Francisco\\', \\'url\\': \\'https://www.weatherapi.com/\\', \\'content\\': \"{\\'location\\': {\\'name\\': \\'San Francisco\\', \\'region\\': \\'California\\', \\'country\\': \\'United States of America\\', \\'lat\\': 37.775, \\'lon\\': -122.4183, \\'tz_id\\': \\'America/Los_Angeles\\', \\'localtime_epoch\\': 1756177123, \\'localtime\\': \\'2025-08-25 19:58\\'}, \\'current\\': {\\'last_updated_epoch\\': 1756176300, \\'last_updated\\': \\'2025-08-25 19:45\\', \\'temp_c\\': 18.3, \\'temp_f\\': 64.9, \\'is_day\\': 0, \\'condition\\': {\\'text\\': \\'Partly cloudy\\', \\'icon\\': \\'//cdn.weatherapi.com/weather/64x64/night/116.png\\', \\'code\\': 1003}, \\'wind_mph\\': 9.8, \\'wind_kph\\': 15.8, \\'wind_degree\\': 256, \\'wind_dir\\': \\'WSW\\', \\'pressure_mb\\': 1012.0, \\'pressure_in\\': 29.87, \\'precip_mm\\': 0.0, \\'precip_in\\': 0.0, \\'humidity\\': 78, \\'cloud\\': 50, \\'feelslike_c\\': 18.3, \\'feelslike_f\\': 64.9, \\'windchill_c\\': 14.6, \\'windchill_f\\': 58.4, \\'heatindex_c\\': 15.0, \\'heatindex_f\\': 59.0, \\'dewpoint_c\\': 13.9, \\'dewpoint_f\\': 56.9, \\'vis_km\\': 16.0, \\'vis_miles\\': 9.0, \\'uv\\': 0.2, \\'gust_mph\\': 14.5, \\'gust_kph\\': 23.4}}\", \\'score\\': 0.9351295, \\'raw_content\\': None}, {\\'url\\': \\'https://www.accuweather.com/en/us/san-francisco/94103/weather-tomorrow/347629\\', \\'title\\': \\'Weather Tomorrow for San Francisco, CA - AccuWeather\\', \\'content\\': \\'Tuesday, August 26. Day. 69°Hi. RealFeel® 72°. Low clouds breaking for some sun. RealFeel®72°. RealFeel Shade™65°. Max UV Index7 (High). AccuLumen Brightness\\', \\'score\\': 0.85421735, \\'raw_content\\': None}], \\'response_time\\': 1.63, \\'request_id\\': \\'e33fb2af-8859-437a-a5ec-f5dd21515195\\'}', name='tavily_search', id='ab061f46-6aa1-4c85-8e67-d6eb91085aac', tool_call_id='317224118'), AIMessage(content='The current weather in San Francisco is partly cloudy with a temperature of 18.3°C (64.9°F). The wind is from the west-southwest at 9.8 mph (15.8 kph), with a wind chill of 14.6°C (58.4°F). The humidity is 78%, and the cloud cover is at 50%. There is no precipitation, and the dew point is 13.9°C (56.9°F). \\n\\nThe weather is expected to be partly cloudy with a high of 69°F (20.5°C) and a low of around 65°F (18.3°C) tomorrow, with a UV index of 7 (High). \\n\\nFor more details, you can refer to the official weather sources.', additional_kwargs={'refusal': None}, response_metadata={'token_usage': {'completion_tokens': 174, 'prompt_tokens': 2628, 'total_tokens': 2802, 'completion_tokens_details': None, 'prompt_tokens_details': None}, 'model_name': 'qwen/qwen3-4b-2507', 'system_fingerprint': 'qwen/qwen3-4b-2507', 'id': 'chatcmpl-5c20nndcxsk6dfvmyehgh', 'service_tier': None, 'finish_reason': 'stop', 'logprobs': None}, id='run--288804e8-0539-417c-8734-442a394af2ec-0', usage_metadata={'input_tokens': 2628, 'output_tokens': 174, 'total_tokens': 2802, 'input_token_details': {}, 'output_token_details': {}}), HumanMessage(content='What is the weather in SF?', additional_kwargs={}, response_metadata={}, id='eecc6dfb-1ad4-4276-a36d-de2de3862813'), AIMessage(content='The current weather in San Francisco is partly cloudy with a temperature of 18.3°C (64.9°F). The wind is from the west-southwest at 9.8 mph (15.8 kph), with a wind chill of 14.6°C (58.4°F). The humidity is 78%, and the cloud cover is at 50%. There is no precipitation, and the dew point is 13.9°C (56.9°F). \\n\\nThe weather is expected to be partly cloudy with a high of 69°F (20.5°C) and a low of around 65°F (18.3°C) tomorrow, with a UV index of 7 (High). \\n\\nFor more details, you can refer to the official weather sources.', additional_kwargs={'refusal': None}, response_metadata={'token_usage': {'completion_tokens': 174, 'prompt_tokens': 2818, 'total_tokens': 2992, 'completion_tokens_details': None, 'prompt_tokens_details': None}, 'model_name': 'qwen/qwen3-4b-2507', 'system_fingerprint': 'qwen/qwen3-4b-2507', 'id': 'chatcmpl-a18f0ewds9upiil4ajmn2', 'service_tier': None, 'finish_reason': 'stop', 'logprobs': None}, id='run--15d62d9f-c244-424d-8dfd-3d221c170032-0', usage_metadata={'input_tokens': 2818, 'output_tokens': 174, 'total_tokens': 2992, 'input_token_details': {}, 'output_token_details': {}}), HumanMessage(content='What is the weather in SF?', additional_kwargs={}, response_metadata={}, id='7f57bf20-12b6-457e-98f7-23db3b854841'), AIMessage(content='The current weather in San Francisco is partly cloudy with a temperature of 18.3°C (64.9°F). The wind is from the west-southwest at 9.8 mph (15.8 kph), with a wind chill of 14.6°C (58.4°F). The humidity is 78%, and the cloud cover is at 50%. There is no precipitation, and the dew point is 13.9°C (56.9°F). \\n\\nThe weather is expected to be partly cloudy with a high of 69°F (20.5°C) and a low of around 65°F (18.3°C) tomorrow, with a UV index of 7 (High). \\n\\nFor more details, you can refer to the official weather sources.', additional_kwargs={'refusal': None}, response_metadata={'token_usage': {'completion_tokens': 174, 'prompt_tokens': 3008, 'total_tokens': 3182, 'completion_tokens_details': None, 'prompt_tokens_details': None}, 'model_name': 'qwen/qwen3-4b-2507', 'system_fingerprint': 'qwen/qwen3-4b-2507', 'id': 'chatcmpl-gf752rlz6qiiund214ygh', 'service_tier': None, 'finish_reason': 'stop', 'logprobs': None}, id='run--3d4b9138-fef9-4083-a614-543248bb55bb-0', usage_metadata={'input_tokens': 3008, 'output_tokens': 174, 'total_tokens': 3182, 'input_token_details': {}, 'output_token_details': {}})]}, next=(), config={'configurable': {'thread_id': '5', 'checkpoint_ns': '', 'checkpoint_id': '1f0822ed-ae41-6772-8009-24041f919983'}}, metadata={'source': 'loop', 'step': 9, 'parents': {}}, created_at='2025-08-26T03:43:40.097291+00:00', parent_config={'configurable': {'thread_id': '5', 'checkpoint_ns': '', 'checkpoint_id': '1f0822ed-856b-6ac8-8008-1c7e1cfc22ea'}}, tasks=(), interrupts=())\n",
      "StateSnapshot(values={'messages': [HumanMessage(content='What is the weather in SF?', additional_kwargs={}, response_metadata={}, id='5bc42af0-a7f8-42dd-990e-dcfb1e3a4457'), AIMessage(content='', additional_kwargs={'tool_calls': [{'id': '317224118', 'function': {'arguments': '{\"query\":\"weather in San Francisco\",\"include_domains\":[\"weather.com\",\"accuweather.com\"],\"search_depth\":\"basic\",\"include_images\":false}', 'name': 'tavily_search'}, 'type': 'function'}], 'refusal': None}, response_metadata={'token_usage': {'completion_tokens': 52, 'prompt_tokens': 1856, 'total_tokens': 1908, 'completion_tokens_details': None, 'prompt_tokens_details': None}, 'model_name': 'qwen/qwen3-4b-2507', 'system_fingerprint': 'qwen/qwen3-4b-2507', 'id': 'chatcmpl-6y1omza6typit370roice', 'service_tier': None, 'finish_reason': 'tool_calls', 'logprobs': None}, id='run--21fd9ce0-b9fb-44ff-8c02-28d4f9bf380e-0', tool_calls=[{'name': 'tavily_search', 'args': {'query': 'weather in San Francisco', 'include_domains': ['weather.com', 'accuweather.com'], 'search_depth': 'basic', 'include_images': False}, 'id': '317224118', 'type': 'tool_call'}], usage_metadata={'input_tokens': 1856, 'output_tokens': 52, 'total_tokens': 1908, 'input_token_details': {}, 'output_token_details': {}}), ToolMessage(content='{\\'query\\': \\'weather in San Francisco\\', \\'follow_up_questions\\': None, \\'answer\\': None, \\'images\\': [], \\'results\\': [{\\'title\\': \\'Weather in San Francisco\\', \\'url\\': \\'https://www.weatherapi.com/\\', \\'content\\': \"{\\'location\\': {\\'name\\': \\'San Francisco\\', \\'region\\': \\'California\\', \\'country\\': \\'United States of America\\', \\'lat\\': 37.775, \\'lon\\': -122.4183, \\'tz_id\\': \\'America/Los_Angeles\\', \\'localtime_epoch\\': 1756177123, \\'localtime\\': \\'2025-08-25 19:58\\'}, \\'current\\': {\\'last_updated_epoch\\': 1756176300, \\'last_updated\\': \\'2025-08-25 19:45\\', \\'temp_c\\': 18.3, \\'temp_f\\': 64.9, \\'is_day\\': 0, \\'condition\\': {\\'text\\': \\'Partly cloudy\\', \\'icon\\': \\'//cdn.weatherapi.com/weather/64x64/night/116.png\\', \\'code\\': 1003}, \\'wind_mph\\': 9.8, \\'wind_kph\\': 15.8, \\'wind_degree\\': 256, \\'wind_dir\\': \\'WSW\\', \\'pressure_mb\\': 1012.0, \\'pressure_in\\': 29.87, \\'precip_mm\\': 0.0, \\'precip_in\\': 0.0, \\'humidity\\': 78, \\'cloud\\': 50, \\'feelslike_c\\': 18.3, \\'feelslike_f\\': 64.9, \\'windchill_c\\': 14.6, \\'windchill_f\\': 58.4, \\'heatindex_c\\': 15.0, \\'heatindex_f\\': 59.0, \\'dewpoint_c\\': 13.9, \\'dewpoint_f\\': 56.9, \\'vis_km\\': 16.0, \\'vis_miles\\': 9.0, \\'uv\\': 0.2, \\'gust_mph\\': 14.5, \\'gust_kph\\': 23.4}}\", \\'score\\': 0.9351295, \\'raw_content\\': None}, {\\'url\\': \\'https://www.accuweather.com/en/us/san-francisco/94103/weather-tomorrow/347629\\', \\'title\\': \\'Weather Tomorrow for San Francisco, CA - AccuWeather\\', \\'content\\': \\'Tuesday, August 26. Day. 69°Hi. RealFeel® 72°. Low clouds breaking for some sun. RealFeel®72°. RealFeel Shade™65°. Max UV Index7 (High). AccuLumen Brightness\\', \\'score\\': 0.85421735, \\'raw_content\\': None}], \\'response_time\\': 1.63, \\'request_id\\': \\'e33fb2af-8859-437a-a5ec-f5dd21515195\\'}', name='tavily_search', id='ab061f46-6aa1-4c85-8e67-d6eb91085aac', tool_call_id='317224118'), AIMessage(content='The current weather in San Francisco is partly cloudy with a temperature of 18.3°C (64.9°F). The wind is from the west-southwest at 9.8 mph (15.8 kph), with a wind chill of 14.6°C (58.4°F). The humidity is 78%, and the cloud cover is at 50%. There is no precipitation, and the dew point is 13.9°C (56.9°F). \\n\\nThe weather is expected to be partly cloudy with a high of 69°F (20.5°C) and a low of around 65°F (18.3°C) tomorrow, with a UV index of 7 (High). \\n\\nFor more details, you can refer to the official weather sources.', additional_kwargs={'refusal': None}, response_metadata={'token_usage': {'completion_tokens': 174, 'prompt_tokens': 2628, 'total_tokens': 2802, 'completion_tokens_details': None, 'prompt_tokens_details': None}, 'model_name': 'qwen/qwen3-4b-2507', 'system_fingerprint': 'qwen/qwen3-4b-2507', 'id': 'chatcmpl-5c20nndcxsk6dfvmyehgh', 'service_tier': None, 'finish_reason': 'stop', 'logprobs': None}, id='run--288804e8-0539-417c-8734-442a394af2ec-0', usage_metadata={'input_tokens': 2628, 'output_tokens': 174, 'total_tokens': 2802, 'input_token_details': {}, 'output_token_details': {}}), HumanMessage(content='What is the weather in SF?', additional_kwargs={}, response_metadata={}, id='eecc6dfb-1ad4-4276-a36d-de2de3862813'), AIMessage(content='The current weather in San Francisco is partly cloudy with a temperature of 18.3°C (64.9°F). The wind is from the west-southwest at 9.8 mph (15.8 kph), with a wind chill of 14.6°C (58.4°F). The humidity is 78%, and the cloud cover is at 50%. There is no precipitation, and the dew point is 13.9°C (56.9°F). \\n\\nThe weather is expected to be partly cloudy with a high of 69°F (20.5°C) and a low of around 65°F (18.3°C) tomorrow, with a UV index of 7 (High). \\n\\nFor more details, you can refer to the official weather sources.', additional_kwargs={'refusal': None}, response_metadata={'token_usage': {'completion_tokens': 174, 'prompt_tokens': 2818, 'total_tokens': 2992, 'completion_tokens_details': None, 'prompt_tokens_details': None}, 'model_name': 'qwen/qwen3-4b-2507', 'system_fingerprint': 'qwen/qwen3-4b-2507', 'id': 'chatcmpl-a18f0ewds9upiil4ajmn2', 'service_tier': None, 'finish_reason': 'stop', 'logprobs': None}, id='run--15d62d9f-c244-424d-8dfd-3d221c170032-0', usage_metadata={'input_tokens': 2818, 'output_tokens': 174, 'total_tokens': 2992, 'input_token_details': {}, 'output_token_details': {}}), HumanMessage(content='What is the weather in SF?', additional_kwargs={}, response_metadata={}, id='7f57bf20-12b6-457e-98f7-23db3b854841')]}, next=('llm',), config={'configurable': {'thread_id': '5', 'checkpoint_ns': '', 'checkpoint_id': '1f0822ed-856b-6ac8-8008-1c7e1cfc22ea'}}, metadata={'source': 'loop', 'step': 8, 'parents': {}}, created_at='2025-08-26T03:43:35.815428+00:00', parent_config={'configurable': {'thread_id': '5', 'checkpoint_ns': '', 'checkpoint_id': '1f0822ed-8561-69f6-8007-1297fb319a0f'}}, tasks=(PregelTask(id='3b518d1e-06d7-34bf-747a-1b9ea3717936', name='llm', path=('__pregel_pull', 'llm'), error=None, interrupts=(), state=None, result={'messages': [AIMessage(content='The current weather in San Francisco is partly cloudy with a temperature of 18.3°C (64.9°F). The wind is from the west-southwest at 9.8 mph (15.8 kph), with a wind chill of 14.6°C (58.4°F). The humidity is 78%, and the cloud cover is at 50%. There is no precipitation, and the dew point is 13.9°C (56.9°F). \\n\\nThe weather is expected to be partly cloudy with a high of 69°F (20.5°C) and a low of around 65°F (18.3°C) tomorrow, with a UV index of 7 (High). \\n\\nFor more details, you can refer to the official weather sources.', additional_kwargs={'refusal': None}, response_metadata={'token_usage': {'completion_tokens': 174, 'prompt_tokens': 3008, 'total_tokens': 3182, 'completion_tokens_details': None, 'prompt_tokens_details': None}, 'model_name': 'qwen/qwen3-4b-2507', 'system_fingerprint': 'qwen/qwen3-4b-2507', 'id': 'chatcmpl-gf752rlz6qiiund214ygh', 'service_tier': None, 'finish_reason': 'stop', 'logprobs': None}, id='run--3d4b9138-fef9-4083-a614-543248bb55bb-0', usage_metadata={'input_tokens': 3008, 'output_tokens': 174, 'total_tokens': 3182, 'input_token_details': {}, 'output_token_details': {}})]}),), interrupts=())\n",
      "StateSnapshot(values={'messages': [HumanMessage(content='What is the weather in SF?', additional_kwargs={}, response_metadata={}, id='5bc42af0-a7f8-42dd-990e-dcfb1e3a4457'), AIMessage(content='', additional_kwargs={'tool_calls': [{'id': '317224118', 'function': {'arguments': '{\"query\":\"weather in San Francisco\",\"include_domains\":[\"weather.com\",\"accuweather.com\"],\"search_depth\":\"basic\",\"include_images\":false}', 'name': 'tavily_search'}, 'type': 'function'}], 'refusal': None}, response_metadata={'token_usage': {'completion_tokens': 52, 'prompt_tokens': 1856, 'total_tokens': 1908, 'completion_tokens_details': None, 'prompt_tokens_details': None}, 'model_name': 'qwen/qwen3-4b-2507', 'system_fingerprint': 'qwen/qwen3-4b-2507', 'id': 'chatcmpl-6y1omza6typit370roice', 'service_tier': None, 'finish_reason': 'tool_calls', 'logprobs': None}, id='run--21fd9ce0-b9fb-44ff-8c02-28d4f9bf380e-0', tool_calls=[{'name': 'tavily_search', 'args': {'query': 'weather in San Francisco', 'include_domains': ['weather.com', 'accuweather.com'], 'search_depth': 'basic', 'include_images': False}, 'id': '317224118', 'type': 'tool_call'}], usage_metadata={'input_tokens': 1856, 'output_tokens': 52, 'total_tokens': 1908, 'input_token_details': {}, 'output_token_details': {}}), ToolMessage(content='{\\'query\\': \\'weather in San Francisco\\', \\'follow_up_questions\\': None, \\'answer\\': None, \\'images\\': [], \\'results\\': [{\\'title\\': \\'Weather in San Francisco\\', \\'url\\': \\'https://www.weatherapi.com/\\', \\'content\\': \"{\\'location\\': {\\'name\\': \\'San Francisco\\', \\'region\\': \\'California\\', \\'country\\': \\'United States of America\\', \\'lat\\': 37.775, \\'lon\\': -122.4183, \\'tz_id\\': \\'America/Los_Angeles\\', \\'localtime_epoch\\': 1756177123, \\'localtime\\': \\'2025-08-25 19:58\\'}, \\'current\\': {\\'last_updated_epoch\\': 1756176300, \\'last_updated\\': \\'2025-08-25 19:45\\', \\'temp_c\\': 18.3, \\'temp_f\\': 64.9, \\'is_day\\': 0, \\'condition\\': {\\'text\\': \\'Partly cloudy\\', \\'icon\\': \\'//cdn.weatherapi.com/weather/64x64/night/116.png\\', \\'code\\': 1003}, \\'wind_mph\\': 9.8, \\'wind_kph\\': 15.8, \\'wind_degree\\': 256, \\'wind_dir\\': \\'WSW\\', \\'pressure_mb\\': 1012.0, \\'pressure_in\\': 29.87, \\'precip_mm\\': 0.0, \\'precip_in\\': 0.0, \\'humidity\\': 78, \\'cloud\\': 50, \\'feelslike_c\\': 18.3, \\'feelslike_f\\': 64.9, \\'windchill_c\\': 14.6, \\'windchill_f\\': 58.4, \\'heatindex_c\\': 15.0, \\'heatindex_f\\': 59.0, \\'dewpoint_c\\': 13.9, \\'dewpoint_f\\': 56.9, \\'vis_km\\': 16.0, \\'vis_miles\\': 9.0, \\'uv\\': 0.2, \\'gust_mph\\': 14.5, \\'gust_kph\\': 23.4}}\", \\'score\\': 0.9351295, \\'raw_content\\': None}, {\\'url\\': \\'https://www.accuweather.com/en/us/san-francisco/94103/weather-tomorrow/347629\\', \\'title\\': \\'Weather Tomorrow for San Francisco, CA - AccuWeather\\', \\'content\\': \\'Tuesday, August 26. Day. 69°Hi. RealFeel® 72°. Low clouds breaking for some sun. RealFeel®72°. RealFeel Shade™65°. Max UV Index7 (High). AccuLumen Brightness\\', \\'score\\': 0.85421735, \\'raw_content\\': None}], \\'response_time\\': 1.63, \\'request_id\\': \\'e33fb2af-8859-437a-a5ec-f5dd21515195\\'}', name='tavily_search', id='ab061f46-6aa1-4c85-8e67-d6eb91085aac', tool_call_id='317224118'), AIMessage(content='The current weather in San Francisco is partly cloudy with a temperature of 18.3°C (64.9°F). The wind is from the west-southwest at 9.8 mph (15.8 kph), with a wind chill of 14.6°C (58.4°F). The humidity is 78%, and the cloud cover is at 50%. There is no precipitation, and the dew point is 13.9°C (56.9°F). \\n\\nThe weather is expected to be partly cloudy with a high of 69°F (20.5°C) and a low of around 65°F (18.3°C) tomorrow, with a UV index of 7 (High). \\n\\nFor more details, you can refer to the official weather sources.', additional_kwargs={'refusal': None}, response_metadata={'token_usage': {'completion_tokens': 174, 'prompt_tokens': 2628, 'total_tokens': 2802, 'completion_tokens_details': None, 'prompt_tokens_details': None}, 'model_name': 'qwen/qwen3-4b-2507', 'system_fingerprint': 'qwen/qwen3-4b-2507', 'id': 'chatcmpl-5c20nndcxsk6dfvmyehgh', 'service_tier': None, 'finish_reason': 'stop', 'logprobs': None}, id='run--288804e8-0539-417c-8734-442a394af2ec-0', usage_metadata={'input_tokens': 2628, 'output_tokens': 174, 'total_tokens': 2802, 'input_token_details': {}, 'output_token_details': {}}), HumanMessage(content='What is the weather in SF?', additional_kwargs={}, response_metadata={}, id='eecc6dfb-1ad4-4276-a36d-de2de3862813'), AIMessage(content='The current weather in San Francisco is partly cloudy with a temperature of 18.3°C (64.9°F). The wind is from the west-southwest at 9.8 mph (15.8 kph), with a wind chill of 14.6°C (58.4°F). The humidity is 78%, and the cloud cover is at 50%. There is no precipitation, and the dew point is 13.9°C (56.9°F). \\n\\nThe weather is expected to be partly cloudy with a high of 69°F (20.5°C) and a low of around 65°F (18.3°C) tomorrow, with a UV index of 7 (High). \\n\\nFor more details, you can refer to the official weather sources.', additional_kwargs={'refusal': None}, response_metadata={'token_usage': {'completion_tokens': 174, 'prompt_tokens': 2818, 'total_tokens': 2992, 'completion_tokens_details': None, 'prompt_tokens_details': None}, 'model_name': 'qwen/qwen3-4b-2507', 'system_fingerprint': 'qwen/qwen3-4b-2507', 'id': 'chatcmpl-a18f0ewds9upiil4ajmn2', 'service_tier': None, 'finish_reason': 'stop', 'logprobs': None}, id='run--15d62d9f-c244-424d-8dfd-3d221c170032-0', usage_metadata={'input_tokens': 2818, 'output_tokens': 174, 'total_tokens': 2992, 'input_token_details': {}, 'output_token_details': {}})]}, next=('__start__',), config={'configurable': {'thread_id': '5', 'checkpoint_ns': '', 'checkpoint_id': '1f0822ed-8561-69f6-8007-1297fb319a0f'}}, metadata={'source': 'input', 'step': 7, 'parents': {}}, created_at='2025-08-26T03:43:35.811139+00:00', parent_config={'configurable': {'thread_id': '5', 'checkpoint_ns': '', 'checkpoint_id': '1f0822ea-4015-608a-8006-5f590049ce23'}}, tasks=(PregelTask(id='08dbaf8d-cfdb-4b1e-ba48-8072582243fd', name='__start__', path=('__pregel_pull', '__start__'), error=None, interrupts=(), state=None, result={'messages': [HumanMessage(content='What is the weather in SF?', additional_kwargs={}, response_metadata={})]}),), interrupts=())\n",
      "StateSnapshot(values={'messages': [HumanMessage(content='What is the weather in SF?', additional_kwargs={}, response_metadata={}, id='5bc42af0-a7f8-42dd-990e-dcfb1e3a4457'), AIMessage(content='', additional_kwargs={'tool_calls': [{'id': '317224118', 'function': {'arguments': '{\"query\":\"weather in San Francisco\",\"include_domains\":[\"weather.com\",\"accuweather.com\"],\"search_depth\":\"basic\",\"include_images\":false}', 'name': 'tavily_search'}, 'type': 'function'}], 'refusal': None}, response_metadata={'token_usage': {'completion_tokens': 52, 'prompt_tokens': 1856, 'total_tokens': 1908, 'completion_tokens_details': None, 'prompt_tokens_details': None}, 'model_name': 'qwen/qwen3-4b-2507', 'system_fingerprint': 'qwen/qwen3-4b-2507', 'id': 'chatcmpl-6y1omza6typit370roice', 'service_tier': None, 'finish_reason': 'tool_calls', 'logprobs': None}, id='run--21fd9ce0-b9fb-44ff-8c02-28d4f9bf380e-0', tool_calls=[{'name': 'tavily_search', 'args': {'query': 'weather in San Francisco', 'include_domains': ['weather.com', 'accuweather.com'], 'search_depth': 'basic', 'include_images': False}, 'id': '317224118', 'type': 'tool_call'}], usage_metadata={'input_tokens': 1856, 'output_tokens': 52, 'total_tokens': 1908, 'input_token_details': {}, 'output_token_details': {}}), ToolMessage(content='{\\'query\\': \\'weather in San Francisco\\', \\'follow_up_questions\\': None, \\'answer\\': None, \\'images\\': [], \\'results\\': [{\\'title\\': \\'Weather in San Francisco\\', \\'url\\': \\'https://www.weatherapi.com/\\', \\'content\\': \"{\\'location\\': {\\'name\\': \\'San Francisco\\', \\'region\\': \\'California\\', \\'country\\': \\'United States of America\\', \\'lat\\': 37.775, \\'lon\\': -122.4183, \\'tz_id\\': \\'America/Los_Angeles\\', \\'localtime_epoch\\': 1756177123, \\'localtime\\': \\'2025-08-25 19:58\\'}, \\'current\\': {\\'last_updated_epoch\\': 1756176300, \\'last_updated\\': \\'2025-08-25 19:45\\', \\'temp_c\\': 18.3, \\'temp_f\\': 64.9, \\'is_day\\': 0, \\'condition\\': {\\'text\\': \\'Partly cloudy\\', \\'icon\\': \\'//cdn.weatherapi.com/weather/64x64/night/116.png\\', \\'code\\': 1003}, \\'wind_mph\\': 9.8, \\'wind_kph\\': 15.8, \\'wind_degree\\': 256, \\'wind_dir\\': \\'WSW\\', \\'pressure_mb\\': 1012.0, \\'pressure_in\\': 29.87, \\'precip_mm\\': 0.0, \\'precip_in\\': 0.0, \\'humidity\\': 78, \\'cloud\\': 50, \\'feelslike_c\\': 18.3, \\'feelslike_f\\': 64.9, \\'windchill_c\\': 14.6, \\'windchill_f\\': 58.4, \\'heatindex_c\\': 15.0, \\'heatindex_f\\': 59.0, \\'dewpoint_c\\': 13.9, \\'dewpoint_f\\': 56.9, \\'vis_km\\': 16.0, \\'vis_miles\\': 9.0, \\'uv\\': 0.2, \\'gust_mph\\': 14.5, \\'gust_kph\\': 23.4}}\", \\'score\\': 0.9351295, \\'raw_content\\': None}, {\\'url\\': \\'https://www.accuweather.com/en/us/san-francisco/94103/weather-tomorrow/347629\\', \\'title\\': \\'Weather Tomorrow for San Francisco, CA - AccuWeather\\', \\'content\\': \\'Tuesday, August 26. Day. 69°Hi. RealFeel® 72°. Low clouds breaking for some sun. RealFeel®72°. RealFeel Shade™65°. Max UV Index7 (High). AccuLumen Brightness\\', \\'score\\': 0.85421735, \\'raw_content\\': None}], \\'response_time\\': 1.63, \\'request_id\\': \\'e33fb2af-8859-437a-a5ec-f5dd21515195\\'}', name='tavily_search', id='ab061f46-6aa1-4c85-8e67-d6eb91085aac', tool_call_id='317224118'), AIMessage(content='The current weather in San Francisco is partly cloudy with a temperature of 18.3°C (64.9°F). The wind is from the west-southwest at 9.8 mph (15.8 kph), with a wind chill of 14.6°C (58.4°F). The humidity is 78%, and the cloud cover is at 50%. There is no precipitation, and the dew point is 13.9°C (56.9°F). \\n\\nThe weather is expected to be partly cloudy with a high of 69°F (20.5°C) and a low of around 65°F (18.3°C) tomorrow, with a UV index of 7 (High). \\n\\nFor more details, you can refer to the official weather sources.', additional_kwargs={'refusal': None}, response_metadata={'token_usage': {'completion_tokens': 174, 'prompt_tokens': 2628, 'total_tokens': 2802, 'completion_tokens_details': None, 'prompt_tokens_details': None}, 'model_name': 'qwen/qwen3-4b-2507', 'system_fingerprint': 'qwen/qwen3-4b-2507', 'id': 'chatcmpl-5c20nndcxsk6dfvmyehgh', 'service_tier': None, 'finish_reason': 'stop', 'logprobs': None}, id='run--288804e8-0539-417c-8734-442a394af2ec-0', usage_metadata={'input_tokens': 2628, 'output_tokens': 174, 'total_tokens': 2802, 'input_token_details': {}, 'output_token_details': {}}), HumanMessage(content='What is the weather in SF?', additional_kwargs={}, response_metadata={}, id='eecc6dfb-1ad4-4276-a36d-de2de3862813'), AIMessage(content='The current weather in San Francisco is partly cloudy with a temperature of 18.3°C (64.9°F). The wind is from the west-southwest at 9.8 mph (15.8 kph), with a wind chill of 14.6°C (58.4°F). The humidity is 78%, and the cloud cover is at 50%. There is no precipitation, and the dew point is 13.9°C (56.9°F). \\n\\nThe weather is expected to be partly cloudy with a high of 69°F (20.5°C) and a low of around 65°F (18.3°C) tomorrow, with a UV index of 7 (High). \\n\\nFor more details, you can refer to the official weather sources.', additional_kwargs={'refusal': None}, response_metadata={'token_usage': {'completion_tokens': 174, 'prompt_tokens': 2818, 'total_tokens': 2992, 'completion_tokens_details': None, 'prompt_tokens_details': None}, 'model_name': 'qwen/qwen3-4b-2507', 'system_fingerprint': 'qwen/qwen3-4b-2507', 'id': 'chatcmpl-a18f0ewds9upiil4ajmn2', 'service_tier': None, 'finish_reason': 'stop', 'logprobs': None}, id='run--15d62d9f-c244-424d-8dfd-3d221c170032-0', usage_metadata={'input_tokens': 2818, 'output_tokens': 174, 'total_tokens': 2992, 'input_token_details': {}, 'output_token_details': {}})]}, next=(), config={'configurable': {'thread_id': '5', 'checkpoint_ns': '', 'checkpoint_id': '1f0822ea-4015-608a-8006-5f590049ce23'}}, metadata={'source': 'loop', 'step': 6, 'parents': {}}, created_at='2025-08-26T03:42:08.014126+00:00', parent_config={'configurable': {'thread_id': '5', 'checkpoint_ns': '', 'checkpoint_id': '1f0822ea-1847-6c42-8005-2f27d71b9d26'}}, tasks=(), interrupts=())\n",
      "StateSnapshot(values={'messages': [HumanMessage(content='What is the weather in SF?', additional_kwargs={}, response_metadata={}, id='5bc42af0-a7f8-42dd-990e-dcfb1e3a4457'), AIMessage(content='', additional_kwargs={'tool_calls': [{'id': '317224118', 'function': {'arguments': '{\"query\":\"weather in San Francisco\",\"include_domains\":[\"weather.com\",\"accuweather.com\"],\"search_depth\":\"basic\",\"include_images\":false}', 'name': 'tavily_search'}, 'type': 'function'}], 'refusal': None}, response_metadata={'token_usage': {'completion_tokens': 52, 'prompt_tokens': 1856, 'total_tokens': 1908, 'completion_tokens_details': None, 'prompt_tokens_details': None}, 'model_name': 'qwen/qwen3-4b-2507', 'system_fingerprint': 'qwen/qwen3-4b-2507', 'id': 'chatcmpl-6y1omza6typit370roice', 'service_tier': None, 'finish_reason': 'tool_calls', 'logprobs': None}, id='run--21fd9ce0-b9fb-44ff-8c02-28d4f9bf380e-0', tool_calls=[{'name': 'tavily_search', 'args': {'query': 'weather in San Francisco', 'include_domains': ['weather.com', 'accuweather.com'], 'search_depth': 'basic', 'include_images': False}, 'id': '317224118', 'type': 'tool_call'}], usage_metadata={'input_tokens': 1856, 'output_tokens': 52, 'total_tokens': 1908, 'input_token_details': {}, 'output_token_details': {}}), ToolMessage(content='{\\'query\\': \\'weather in San Francisco\\', \\'follow_up_questions\\': None, \\'answer\\': None, \\'images\\': [], \\'results\\': [{\\'title\\': \\'Weather in San Francisco\\', \\'url\\': \\'https://www.weatherapi.com/\\', \\'content\\': \"{\\'location\\': {\\'name\\': \\'San Francisco\\', \\'region\\': \\'California\\', \\'country\\': \\'United States of America\\', \\'lat\\': 37.775, \\'lon\\': -122.4183, \\'tz_id\\': \\'America/Los_Angeles\\', \\'localtime_epoch\\': 1756177123, \\'localtime\\': \\'2025-08-25 19:58\\'}, \\'current\\': {\\'last_updated_epoch\\': 1756176300, \\'last_updated\\': \\'2025-08-25 19:45\\', \\'temp_c\\': 18.3, \\'temp_f\\': 64.9, \\'is_day\\': 0, \\'condition\\': {\\'text\\': \\'Partly cloudy\\', \\'icon\\': \\'//cdn.weatherapi.com/weather/64x64/night/116.png\\', \\'code\\': 1003}, \\'wind_mph\\': 9.8, \\'wind_kph\\': 15.8, \\'wind_degree\\': 256, \\'wind_dir\\': \\'WSW\\', \\'pressure_mb\\': 1012.0, \\'pressure_in\\': 29.87, \\'precip_mm\\': 0.0, \\'precip_in\\': 0.0, \\'humidity\\': 78, \\'cloud\\': 50, \\'feelslike_c\\': 18.3, \\'feelslike_f\\': 64.9, \\'windchill_c\\': 14.6, \\'windchill_f\\': 58.4, \\'heatindex_c\\': 15.0, \\'heatindex_f\\': 59.0, \\'dewpoint_c\\': 13.9, \\'dewpoint_f\\': 56.9, \\'vis_km\\': 16.0, \\'vis_miles\\': 9.0, \\'uv\\': 0.2, \\'gust_mph\\': 14.5, \\'gust_kph\\': 23.4}}\", \\'score\\': 0.9351295, \\'raw_content\\': None}, {\\'url\\': \\'https://www.accuweather.com/en/us/san-francisco/94103/weather-tomorrow/347629\\', \\'title\\': \\'Weather Tomorrow for San Francisco, CA - AccuWeather\\', \\'content\\': \\'Tuesday, August 26. Day. 69°Hi. RealFeel® 72°. Low clouds breaking for some sun. RealFeel®72°. RealFeel Shade™65°. Max UV Index7 (High). AccuLumen Brightness\\', \\'score\\': 0.85421735, \\'raw_content\\': None}], \\'response_time\\': 1.63, \\'request_id\\': \\'e33fb2af-8859-437a-a5ec-f5dd21515195\\'}', name='tavily_search', id='ab061f46-6aa1-4c85-8e67-d6eb91085aac', tool_call_id='317224118'), AIMessage(content='The current weather in San Francisco is partly cloudy with a temperature of 18.3°C (64.9°F). The wind is from the west-southwest at 9.8 mph (15.8 kph), with a wind chill of 14.6°C (58.4°F). The humidity is 78%, and the cloud cover is at 50%. There is no precipitation, and the dew point is 13.9°C (56.9°F). \\n\\nThe weather is expected to be partly cloudy with a high of 69°F (20.5°C) and a low of around 65°F (18.3°C) tomorrow, with a UV index of 7 (High). \\n\\nFor more details, you can refer to the official weather sources.', additional_kwargs={'refusal': None}, response_metadata={'token_usage': {'completion_tokens': 174, 'prompt_tokens': 2628, 'total_tokens': 2802, 'completion_tokens_details': None, 'prompt_tokens_details': None}, 'model_name': 'qwen/qwen3-4b-2507', 'system_fingerprint': 'qwen/qwen3-4b-2507', 'id': 'chatcmpl-5c20nndcxsk6dfvmyehgh', 'service_tier': None, 'finish_reason': 'stop', 'logprobs': None}, id='run--288804e8-0539-417c-8734-442a394af2ec-0', usage_metadata={'input_tokens': 2628, 'output_tokens': 174, 'total_tokens': 2802, 'input_token_details': {}, 'output_token_details': {}}), HumanMessage(content='What is the weather in SF?', additional_kwargs={}, response_metadata={}, id='eecc6dfb-1ad4-4276-a36d-de2de3862813')]}, next=('llm',), config={'configurable': {'thread_id': '5', 'checkpoint_ns': '', 'checkpoint_id': '1f0822ea-1847-6c42-8005-2f27d71b9d26'}}, metadata={'source': 'loop', 'step': 5, 'parents': {}}, created_at='2025-08-26T03:42:03.840614+00:00', parent_config={'configurable': {'thread_id': '5', 'checkpoint_ns': '', 'checkpoint_id': '1f0822ea-1845-664a-8004-0651e8da1505'}}, tasks=(PregelTask(id='47d1e516-a4df-c70a-adda-89e2ae71526e', name='llm', path=('__pregel_pull', 'llm'), error=None, interrupts=(), state=None, result={'messages': [AIMessage(content='The current weather in San Francisco is partly cloudy with a temperature of 18.3°C (64.9°F). The wind is from the west-southwest at 9.8 mph (15.8 kph), with a wind chill of 14.6°C (58.4°F). The humidity is 78%, and the cloud cover is at 50%. There is no precipitation, and the dew point is 13.9°C (56.9°F). \\n\\nThe weather is expected to be partly cloudy with a high of 69°F (20.5°C) and a low of around 65°F (18.3°C) tomorrow, with a UV index of 7 (High). \\n\\nFor more details, you can refer to the official weather sources.', additional_kwargs={'refusal': None}, response_metadata={'token_usage': {'completion_tokens': 174, 'prompt_tokens': 2818, 'total_tokens': 2992, 'completion_tokens_details': None, 'prompt_tokens_details': None}, 'model_name': 'qwen/qwen3-4b-2507', 'system_fingerprint': 'qwen/qwen3-4b-2507', 'id': 'chatcmpl-a18f0ewds9upiil4ajmn2', 'service_tier': None, 'finish_reason': 'stop', 'logprobs': None}, id='run--15d62d9f-c244-424d-8dfd-3d221c170032-0', usage_metadata={'input_tokens': 2818, 'output_tokens': 174, 'total_tokens': 2992, 'input_token_details': {}, 'output_token_details': {}})]}),), interrupts=())\n",
      "StateSnapshot(values={'messages': [HumanMessage(content='What is the weather in SF?', additional_kwargs={}, response_metadata={}, id='5bc42af0-a7f8-42dd-990e-dcfb1e3a4457'), AIMessage(content='', additional_kwargs={'tool_calls': [{'id': '317224118', 'function': {'arguments': '{\"query\":\"weather in San Francisco\",\"include_domains\":[\"weather.com\",\"accuweather.com\"],\"search_depth\":\"basic\",\"include_images\":false}', 'name': 'tavily_search'}, 'type': 'function'}], 'refusal': None}, response_metadata={'token_usage': {'completion_tokens': 52, 'prompt_tokens': 1856, 'total_tokens': 1908, 'completion_tokens_details': None, 'prompt_tokens_details': None}, 'model_name': 'qwen/qwen3-4b-2507', 'system_fingerprint': 'qwen/qwen3-4b-2507', 'id': 'chatcmpl-6y1omza6typit370roice', 'service_tier': None, 'finish_reason': 'tool_calls', 'logprobs': None}, id='run--21fd9ce0-b9fb-44ff-8c02-28d4f9bf380e-0', tool_calls=[{'name': 'tavily_search', 'args': {'query': 'weather in San Francisco', 'include_domains': ['weather.com', 'accuweather.com'], 'search_depth': 'basic', 'include_images': False}, 'id': '317224118', 'type': 'tool_call'}], usage_metadata={'input_tokens': 1856, 'output_tokens': 52, 'total_tokens': 1908, 'input_token_details': {}, 'output_token_details': {}}), ToolMessage(content='{\\'query\\': \\'weather in San Francisco\\', \\'follow_up_questions\\': None, \\'answer\\': None, \\'images\\': [], \\'results\\': [{\\'title\\': \\'Weather in San Francisco\\', \\'url\\': \\'https://www.weatherapi.com/\\', \\'content\\': \"{\\'location\\': {\\'name\\': \\'San Francisco\\', \\'region\\': \\'California\\', \\'country\\': \\'United States of America\\', \\'lat\\': 37.775, \\'lon\\': -122.4183, \\'tz_id\\': \\'America/Los_Angeles\\', \\'localtime_epoch\\': 1756177123, \\'localtime\\': \\'2025-08-25 19:58\\'}, \\'current\\': {\\'last_updated_epoch\\': 1756176300, \\'last_updated\\': \\'2025-08-25 19:45\\', \\'temp_c\\': 18.3, \\'temp_f\\': 64.9, \\'is_day\\': 0, \\'condition\\': {\\'text\\': \\'Partly cloudy\\', \\'icon\\': \\'//cdn.weatherapi.com/weather/64x64/night/116.png\\', \\'code\\': 1003}, \\'wind_mph\\': 9.8, \\'wind_kph\\': 15.8, \\'wind_degree\\': 256, \\'wind_dir\\': \\'WSW\\', \\'pressure_mb\\': 1012.0, \\'pressure_in\\': 29.87, \\'precip_mm\\': 0.0, \\'precip_in\\': 0.0, \\'humidity\\': 78, \\'cloud\\': 50, \\'feelslike_c\\': 18.3, \\'feelslike_f\\': 64.9, \\'windchill_c\\': 14.6, \\'windchill_f\\': 58.4, \\'heatindex_c\\': 15.0, \\'heatindex_f\\': 59.0, \\'dewpoint_c\\': 13.9, \\'dewpoint_f\\': 56.9, \\'vis_km\\': 16.0, \\'vis_miles\\': 9.0, \\'uv\\': 0.2, \\'gust_mph\\': 14.5, \\'gust_kph\\': 23.4}}\", \\'score\\': 0.9351295, \\'raw_content\\': None}, {\\'url\\': \\'https://www.accuweather.com/en/us/san-francisco/94103/weather-tomorrow/347629\\', \\'title\\': \\'Weather Tomorrow for San Francisco, CA - AccuWeather\\', \\'content\\': \\'Tuesday, August 26. Day. 69°Hi. RealFeel® 72°. Low clouds breaking for some sun. RealFeel®72°. RealFeel Shade™65°. Max UV Index7 (High). AccuLumen Brightness\\', \\'score\\': 0.85421735, \\'raw_content\\': None}], \\'response_time\\': 1.63, \\'request_id\\': \\'e33fb2af-8859-437a-a5ec-f5dd21515195\\'}', name='tavily_search', id='ab061f46-6aa1-4c85-8e67-d6eb91085aac', tool_call_id='317224118'), AIMessage(content='The current weather in San Francisco is partly cloudy with a temperature of 18.3°C (64.9°F). The wind is from the west-southwest at 9.8 mph (15.8 kph), with a wind chill of 14.6°C (58.4°F). The humidity is 78%, and the cloud cover is at 50%. There is no precipitation, and the dew point is 13.9°C (56.9°F). \\n\\nThe weather is expected to be partly cloudy with a high of 69°F (20.5°C) and a low of around 65°F (18.3°C) tomorrow, with a UV index of 7 (High). \\n\\nFor more details, you can refer to the official weather sources.', additional_kwargs={'refusal': None}, response_metadata={'token_usage': {'completion_tokens': 174, 'prompt_tokens': 2628, 'total_tokens': 2802, 'completion_tokens_details': None, 'prompt_tokens_details': None}, 'model_name': 'qwen/qwen3-4b-2507', 'system_fingerprint': 'qwen/qwen3-4b-2507', 'id': 'chatcmpl-5c20nndcxsk6dfvmyehgh', 'service_tier': None, 'finish_reason': 'stop', 'logprobs': None}, id='run--288804e8-0539-417c-8734-442a394af2ec-0', usage_metadata={'input_tokens': 2628, 'output_tokens': 174, 'total_tokens': 2802, 'input_token_details': {}, 'output_token_details': {}})]}, next=('__start__',), config={'configurable': {'thread_id': '5', 'checkpoint_ns': '', 'checkpoint_id': '1f0822ea-1845-664a-8004-0651e8da1505'}}, metadata={'source': 'input', 'step': 4, 'parents': {}}, created_at='2025-08-26T03:42:03.839638+00:00', parent_config={'configurable': {'thread_id': '5', 'checkpoint_ns': '', 'checkpoint_id': '1f0822e8-ab5d-62fe-8003-c007e6564b27'}}, tasks=(PregelTask(id='7b639933-5663-feee-e5e6-57e27e43af04', name='__start__', path=('__pregel_pull', '__start__'), error=None, interrupts=(), state=None, result={'messages': [HumanMessage(content='What is the weather in SF?', additional_kwargs={}, response_metadata={}, id='eecc6dfb-1ad4-4276-a36d-de2de3862813')]}),), interrupts=())\n",
      "StateSnapshot(values={'messages': [HumanMessage(content='What is the weather in SF?', additional_kwargs={}, response_metadata={}, id='5bc42af0-a7f8-42dd-990e-dcfb1e3a4457'), AIMessage(content='', additional_kwargs={'tool_calls': [{'id': '317224118', 'function': {'arguments': '{\"query\":\"weather in San Francisco\",\"include_domains\":[\"weather.com\",\"accuweather.com\"],\"search_depth\":\"basic\",\"include_images\":false}', 'name': 'tavily_search'}, 'type': 'function'}], 'refusal': None}, response_metadata={'token_usage': {'completion_tokens': 52, 'prompt_tokens': 1856, 'total_tokens': 1908, 'completion_tokens_details': None, 'prompt_tokens_details': None}, 'model_name': 'qwen/qwen3-4b-2507', 'system_fingerprint': 'qwen/qwen3-4b-2507', 'id': 'chatcmpl-6y1omza6typit370roice', 'service_tier': None, 'finish_reason': 'tool_calls', 'logprobs': None}, id='run--21fd9ce0-b9fb-44ff-8c02-28d4f9bf380e-0', tool_calls=[{'name': 'tavily_search', 'args': {'query': 'weather in San Francisco', 'include_domains': ['weather.com', 'accuweather.com'], 'search_depth': 'basic', 'include_images': False}, 'id': '317224118', 'type': 'tool_call'}], usage_metadata={'input_tokens': 1856, 'output_tokens': 52, 'total_tokens': 1908, 'input_token_details': {}, 'output_token_details': {}}), ToolMessage(content='{\\'query\\': \\'weather in San Francisco\\', \\'follow_up_questions\\': None, \\'answer\\': None, \\'images\\': [], \\'results\\': [{\\'title\\': \\'Weather in San Francisco\\', \\'url\\': \\'https://www.weatherapi.com/\\', \\'content\\': \"{\\'location\\': {\\'name\\': \\'San Francisco\\', \\'region\\': \\'California\\', \\'country\\': \\'United States of America\\', \\'lat\\': 37.775, \\'lon\\': -122.4183, \\'tz_id\\': \\'America/Los_Angeles\\', \\'localtime_epoch\\': 1756177123, \\'localtime\\': \\'2025-08-25 19:58\\'}, \\'current\\': {\\'last_updated_epoch\\': 1756176300, \\'last_updated\\': \\'2025-08-25 19:45\\', \\'temp_c\\': 18.3, \\'temp_f\\': 64.9, \\'is_day\\': 0, \\'condition\\': {\\'text\\': \\'Partly cloudy\\', \\'icon\\': \\'//cdn.weatherapi.com/weather/64x64/night/116.png\\', \\'code\\': 1003}, \\'wind_mph\\': 9.8, \\'wind_kph\\': 15.8, \\'wind_degree\\': 256, \\'wind_dir\\': \\'WSW\\', \\'pressure_mb\\': 1012.0, \\'pressure_in\\': 29.87, \\'precip_mm\\': 0.0, \\'precip_in\\': 0.0, \\'humidity\\': 78, \\'cloud\\': 50, \\'feelslike_c\\': 18.3, \\'feelslike_f\\': 64.9, \\'windchill_c\\': 14.6, \\'windchill_f\\': 58.4, \\'heatindex_c\\': 15.0, \\'heatindex_f\\': 59.0, \\'dewpoint_c\\': 13.9, \\'dewpoint_f\\': 56.9, \\'vis_km\\': 16.0, \\'vis_miles\\': 9.0, \\'uv\\': 0.2, \\'gust_mph\\': 14.5, \\'gust_kph\\': 23.4}}\", \\'score\\': 0.9351295, \\'raw_content\\': None}, {\\'url\\': \\'https://www.accuweather.com/en/us/san-francisco/94103/weather-tomorrow/347629\\', \\'title\\': \\'Weather Tomorrow for San Francisco, CA - AccuWeather\\', \\'content\\': \\'Tuesday, August 26. Day. 69°Hi. RealFeel® 72°. Low clouds breaking for some sun. RealFeel®72°. RealFeel Shade™65°. Max UV Index7 (High). AccuLumen Brightness\\', \\'score\\': 0.85421735, \\'raw_content\\': None}], \\'response_time\\': 1.63, \\'request_id\\': \\'e33fb2af-8859-437a-a5ec-f5dd21515195\\'}', name='tavily_search', id='ab061f46-6aa1-4c85-8e67-d6eb91085aac', tool_call_id='317224118'), AIMessage(content='The current weather in San Francisco is partly cloudy with a temperature of 18.3°C (64.9°F). The wind is from the west-southwest at 9.8 mph (15.8 kph), with a wind chill of 14.6°C (58.4°F). The humidity is 78%, and the cloud cover is at 50%. There is no precipitation, and the dew point is 13.9°C (56.9°F). \\n\\nThe weather is expected to be partly cloudy with a high of 69°F (20.5°C) and a low of around 65°F (18.3°C) tomorrow, with a UV index of 7 (High). \\n\\nFor more details, you can refer to the official weather sources.', additional_kwargs={'refusal': None}, response_metadata={'token_usage': {'completion_tokens': 174, 'prompt_tokens': 2628, 'total_tokens': 2802, 'completion_tokens_details': None, 'prompt_tokens_details': None}, 'model_name': 'qwen/qwen3-4b-2507', 'system_fingerprint': 'qwen/qwen3-4b-2507', 'id': 'chatcmpl-5c20nndcxsk6dfvmyehgh', 'service_tier': None, 'finish_reason': 'stop', 'logprobs': None}, id='run--288804e8-0539-417c-8734-442a394af2ec-0', usage_metadata={'input_tokens': 2628, 'output_tokens': 174, 'total_tokens': 2802, 'input_token_details': {}, 'output_token_details': {}})]}, next=(), config={'configurable': {'thread_id': '5', 'checkpoint_ns': '', 'checkpoint_id': '1f0822e8-ab5d-62fe-8003-c007e6564b27'}}, metadata={'source': 'loop', 'step': 3, 'parents': {}}, created_at='2025-08-26T03:41:25.576345+00:00', parent_config={'configurable': {'thread_id': '5', 'checkpoint_ns': '', 'checkpoint_id': '1f0822e8-6e77-6916-8002-47098741ce0f'}}, tasks=(), interrupts=())\n",
      "StateSnapshot(values={'messages': [HumanMessage(content='What is the weather in SF?', additional_kwargs={}, response_metadata={}, id='5bc42af0-a7f8-42dd-990e-dcfb1e3a4457'), AIMessage(content='', additional_kwargs={'tool_calls': [{'id': '317224118', 'function': {'arguments': '{\"query\":\"weather in San Francisco\",\"include_domains\":[\"weather.com\",\"accuweather.com\"],\"search_depth\":\"basic\",\"include_images\":false}', 'name': 'tavily_search'}, 'type': 'function'}], 'refusal': None}, response_metadata={'token_usage': {'completion_tokens': 52, 'prompt_tokens': 1856, 'total_tokens': 1908, 'completion_tokens_details': None, 'prompt_tokens_details': None}, 'model_name': 'qwen/qwen3-4b-2507', 'system_fingerprint': 'qwen/qwen3-4b-2507', 'id': 'chatcmpl-6y1omza6typit370roice', 'service_tier': None, 'finish_reason': 'tool_calls', 'logprobs': None}, id='run--21fd9ce0-b9fb-44ff-8c02-28d4f9bf380e-0', tool_calls=[{'name': 'tavily_search', 'args': {'query': 'weather in San Francisco', 'include_domains': ['weather.com', 'accuweather.com'], 'search_depth': 'basic', 'include_images': False}, 'id': '317224118', 'type': 'tool_call'}], usage_metadata={'input_tokens': 1856, 'output_tokens': 52, 'total_tokens': 1908, 'input_token_details': {}, 'output_token_details': {}}), ToolMessage(content='{\\'query\\': \\'weather in San Francisco\\', \\'follow_up_questions\\': None, \\'answer\\': None, \\'images\\': [], \\'results\\': [{\\'title\\': \\'Weather in San Francisco\\', \\'url\\': \\'https://www.weatherapi.com/\\', \\'content\\': \"{\\'location\\': {\\'name\\': \\'San Francisco\\', \\'region\\': \\'California\\', \\'country\\': \\'United States of America\\', \\'lat\\': 37.775, \\'lon\\': -122.4183, \\'tz_id\\': \\'America/Los_Angeles\\', \\'localtime_epoch\\': 1756177123, \\'localtime\\': \\'2025-08-25 19:58\\'}, \\'current\\': {\\'last_updated_epoch\\': 1756176300, \\'last_updated\\': \\'2025-08-25 19:45\\', \\'temp_c\\': 18.3, \\'temp_f\\': 64.9, \\'is_day\\': 0, \\'condition\\': {\\'text\\': \\'Partly cloudy\\', \\'icon\\': \\'//cdn.weatherapi.com/weather/64x64/night/116.png\\', \\'code\\': 1003}, \\'wind_mph\\': 9.8, \\'wind_kph\\': 15.8, \\'wind_degree\\': 256, \\'wind_dir\\': \\'WSW\\', \\'pressure_mb\\': 1012.0, \\'pressure_in\\': 29.87, \\'precip_mm\\': 0.0, \\'precip_in\\': 0.0, \\'humidity\\': 78, \\'cloud\\': 50, \\'feelslike_c\\': 18.3, \\'feelslike_f\\': 64.9, \\'windchill_c\\': 14.6, \\'windchill_f\\': 58.4, \\'heatindex_c\\': 15.0, \\'heatindex_f\\': 59.0, \\'dewpoint_c\\': 13.9, \\'dewpoint_f\\': 56.9, \\'vis_km\\': 16.0, \\'vis_miles\\': 9.0, \\'uv\\': 0.2, \\'gust_mph\\': 14.5, \\'gust_kph\\': 23.4}}\", \\'score\\': 0.9351295, \\'raw_content\\': None}, {\\'url\\': \\'https://www.accuweather.com/en/us/san-francisco/94103/weather-tomorrow/347629\\', \\'title\\': \\'Weather Tomorrow for San Francisco, CA - AccuWeather\\', \\'content\\': \\'Tuesday, August 26. Day. 69°Hi. RealFeel® 72°. Low clouds breaking for some sun. RealFeel®72°. RealFeel Shade™65°. Max UV Index7 (High). AccuLumen Brightness\\', \\'score\\': 0.85421735, \\'raw_content\\': None}], \\'response_time\\': 1.63, \\'request_id\\': \\'e33fb2af-8859-437a-a5ec-f5dd21515195\\'}', name='tavily_search', id='ab061f46-6aa1-4c85-8e67-d6eb91085aac', tool_call_id='317224118')]}, next=('llm',), config={'configurable': {'thread_id': '5', 'checkpoint_ns': '', 'checkpoint_id': '1f0822e8-6e77-6916-8002-47098741ce0f'}}, metadata={'source': 'loop', 'step': 2, 'parents': {}}, created_at='2025-08-26T03:41:19.190846+00:00', parent_config={'configurable': {'thread_id': '5', 'checkpoint_ns': '', 'checkpoint_id': '1f0822e8-4ace-6aaa-8001-e391c0b4709b'}}, tasks=(PregelTask(id='4ada12e4-a61e-e150-ccaf-36f3c6fcb98d', name='llm', path=('__pregel_pull', 'llm'), error=None, interrupts=(), state=None, result={'messages': [AIMessage(content='The current weather in San Francisco is partly cloudy with a temperature of 18.3°C (64.9°F). The wind is from the west-southwest at 9.8 mph (15.8 kph), with a wind chill of 14.6°C (58.4°F). The humidity is 78%, and the cloud cover is at 50%. There is no precipitation, and the dew point is 13.9°C (56.9°F). \\n\\nThe weather is expected to be partly cloudy with a high of 69°F (20.5°C) and a low of around 65°F (18.3°C) tomorrow, with a UV index of 7 (High). \\n\\nFor more details, you can refer to the official weather sources.', additional_kwargs={'refusal': None}, response_metadata={'token_usage': {'completion_tokens': 174, 'prompt_tokens': 2628, 'total_tokens': 2802, 'completion_tokens_details': None, 'prompt_tokens_details': None}, 'model_name': 'qwen/qwen3-4b-2507', 'system_fingerprint': 'qwen/qwen3-4b-2507', 'id': 'chatcmpl-5c20nndcxsk6dfvmyehgh', 'service_tier': None, 'finish_reason': 'stop', 'logprobs': None}, id='run--288804e8-0539-417c-8734-442a394af2ec-0', usage_metadata={'input_tokens': 2628, 'output_tokens': 174, 'total_tokens': 2802, 'input_token_details': {}, 'output_token_details': {}})]}),), interrupts=())\n",
      "StateSnapshot(values={'messages': [HumanMessage(content='What is the weather in SF?', additional_kwargs={}, response_metadata={}, id='5bc42af0-a7f8-42dd-990e-dcfb1e3a4457'), AIMessage(content='', additional_kwargs={'tool_calls': [{'id': '317224118', 'function': {'arguments': '{\"query\":\"weather in San Francisco\",\"include_domains\":[\"weather.com\",\"accuweather.com\"],\"search_depth\":\"basic\",\"include_images\":false}', 'name': 'tavily_search'}, 'type': 'function'}], 'refusal': None}, response_metadata={'token_usage': {'completion_tokens': 52, 'prompt_tokens': 1856, 'total_tokens': 1908, 'completion_tokens_details': None, 'prompt_tokens_details': None}, 'model_name': 'qwen/qwen3-4b-2507', 'system_fingerprint': 'qwen/qwen3-4b-2507', 'id': 'chatcmpl-6y1omza6typit370roice', 'service_tier': None, 'finish_reason': 'tool_calls', 'logprobs': None}, id='run--21fd9ce0-b9fb-44ff-8c02-28d4f9bf380e-0', tool_calls=[{'name': 'tavily_search', 'args': {'query': 'weather in San Francisco', 'include_domains': ['weather.com', 'accuweather.com'], 'search_depth': 'basic', 'include_images': False}, 'id': '317224118', 'type': 'tool_call'}], usage_metadata={'input_tokens': 1856, 'output_tokens': 52, 'total_tokens': 1908, 'input_token_details': {}, 'output_token_details': {}})]}, next=('action',), config={'configurable': {'thread_id': '5', 'checkpoint_ns': '', 'checkpoint_id': '1f0822e8-4ace-6aaa-8001-e391c0b4709b'}}, metadata={'source': 'loop', 'step': 1, 'parents': {}}, created_at='2025-08-26T03:41:15.451647+00:00', parent_config={'configurable': {'thread_id': '5', 'checkpoint_ns': '', 'checkpoint_id': '1f0822e8-405e-62e6-8000-7a890de7b1e8'}}, tasks=(PregelTask(id='0f83325b-5465-8132-c126-bff520036033', name='action', path=('__pregel_pull', 'action'), error=None, interrupts=(), state=None, result={'messages': [ToolMessage(content='{\\'query\\': \\'weather in San Francisco\\', \\'follow_up_questions\\': None, \\'answer\\': None, \\'images\\': [], \\'results\\': [{\\'title\\': \\'Weather in San Francisco\\', \\'url\\': \\'https://www.weatherapi.com/\\', \\'content\\': \"{\\'location\\': {\\'name\\': \\'San Francisco\\', \\'region\\': \\'California\\', \\'country\\': \\'United States of America\\', \\'lat\\': 37.775, \\'lon\\': -122.4183, \\'tz_id\\': \\'America/Los_Angeles\\', \\'localtime_epoch\\': 1756177123, \\'localtime\\': \\'2025-08-25 19:58\\'}, \\'current\\': {\\'last_updated_epoch\\': 1756176300, \\'last_updated\\': \\'2025-08-25 19:45\\', \\'temp_c\\': 18.3, \\'temp_f\\': 64.9, \\'is_day\\': 0, \\'condition\\': {\\'text\\': \\'Partly cloudy\\', \\'icon\\': \\'//cdn.weatherapi.com/weather/64x64/night/116.png\\', \\'code\\': 1003}, \\'wind_mph\\': 9.8, \\'wind_kph\\': 15.8, \\'wind_degree\\': 256, \\'wind_dir\\': \\'WSW\\', \\'pressure_mb\\': 1012.0, \\'pressure_in\\': 29.87, \\'precip_mm\\': 0.0, \\'precip_in\\': 0.0, \\'humidity\\': 78, \\'cloud\\': 50, \\'feelslike_c\\': 18.3, \\'feelslike_f\\': 64.9, \\'windchill_c\\': 14.6, \\'windchill_f\\': 58.4, \\'heatindex_c\\': 15.0, \\'heatindex_f\\': 59.0, \\'dewpoint_c\\': 13.9, \\'dewpoint_f\\': 56.9, \\'vis_km\\': 16.0, \\'vis_miles\\': 9.0, \\'uv\\': 0.2, \\'gust_mph\\': 14.5, \\'gust_kph\\': 23.4}}\", \\'score\\': 0.9351295, \\'raw_content\\': None}, {\\'url\\': \\'https://www.accuweather.com/en/us/san-francisco/94103/weather-tomorrow/347629\\', \\'title\\': \\'Weather Tomorrow for San Francisco, CA - AccuWeather\\', \\'content\\': \\'Tuesday, August 26. Day. 69°Hi. RealFeel® 72°. Low clouds breaking for some sun. RealFeel®72°. RealFeel Shade™65°. Max UV Index7 (High). AccuLumen Brightness\\', \\'score\\': 0.85421735, \\'raw_content\\': None}], \\'response_time\\': 1.63, \\'request_id\\': \\'e33fb2af-8859-437a-a5ec-f5dd21515195\\'}', name='tavily_search', tool_call_id='317224118')]}),), interrupts=())\n",
      "StateSnapshot(values={'messages': [HumanMessage(content='What is the weather in SF?', additional_kwargs={}, response_metadata={}, id='5bc42af0-a7f8-42dd-990e-dcfb1e3a4457')]}, next=('llm',), config={'configurable': {'thread_id': '5', 'checkpoint_ns': '', 'checkpoint_id': '1f0822e8-405e-62e6-8000-7a890de7b1e8'}}, metadata={'source': 'loop', 'step': 0, 'parents': {}}, created_at='2025-08-26T03:41:14.356999+00:00', parent_config={'configurable': {'thread_id': '5', 'checkpoint_ns': '', 'checkpoint_id': '1f0822e8-405c-6856-bfff-480071f274b0'}}, tasks=(PregelTask(id='78fc5ce8-0352-437f-3542-422855d8b855', name='llm', path=('__pregel_pull', 'llm'), error=None, interrupts=(), state=None, result={'messages': [AIMessage(content='', additional_kwargs={'tool_calls': [{'id': '317224118', 'function': {'arguments': '{\"query\":\"weather in San Francisco\",\"include_domains\":[\"weather.com\",\"accuweather.com\"],\"search_depth\":\"basic\",\"include_images\":false}', 'name': 'tavily_search'}, 'type': 'function'}], 'refusal': None}, response_metadata={'token_usage': {'completion_tokens': 52, 'prompt_tokens': 1856, 'total_tokens': 1908, 'completion_tokens_details': None, 'prompt_tokens_details': None}, 'model_name': 'qwen/qwen3-4b-2507', 'system_fingerprint': 'qwen/qwen3-4b-2507', 'id': 'chatcmpl-6y1omza6typit370roice', 'service_tier': None, 'finish_reason': 'tool_calls', 'logprobs': None}, id='run--21fd9ce0-b9fb-44ff-8c02-28d4f9bf380e-0', tool_calls=[{'name': 'tavily_search', 'args': {'query': 'weather in San Francisco', 'include_domains': ['weather.com', 'accuweather.com'], 'search_depth': 'basic', 'include_images': False}, 'id': '317224118', 'type': 'tool_call'}], usage_metadata={'input_tokens': 1856, 'output_tokens': 52, 'total_tokens': 1908, 'input_token_details': {}, 'output_token_details': {}})]}),), interrupts=())\n",
      "StateSnapshot(values={'messages': []}, next=('__start__',), config={'configurable': {'thread_id': '5', 'checkpoint_ns': '', 'checkpoint_id': '1f0822e8-405c-6856-bfff-480071f274b0'}}, metadata={'source': 'input', 'step': -1, 'parents': {}}, created_at='2025-08-26T03:41:14.356330+00:00', parent_config=None, tasks=(PregelTask(id='1252f69f-9ebd-5945-2fd3-3802aac9e825', name='__start__', path=('__pregel_pull', '__start__'), error=None, interrupts=(), state=None, result={'messages': [HumanMessage(content='What is the weather in SF?', additional_kwargs={}, response_metadata={}, id='5bc42af0-a7f8-42dd-990e-dcfb1e3a4457')]}),), interrupts=())\n"
     ]
    }
   ],
   "source": [
    "thread = { \"configurable\": { \"thread_id\": thread_id } }\n",
    "for state_snapshot in agent.graph.get_state_history(thread):\n",
    "    print(state_snapshot)"
   ]
  }
 ],
 "metadata": {
  "kernelspec": {
   "display_name": "langgraph",
   "language": "python",
   "name": "python3"
  },
  "language_info": {
   "codemirror_mode": {
    "name": "ipython",
    "version": 3
   },
   "file_extension": ".py",
   "mimetype": "text/x-python",
   "name": "python",
   "nbconvert_exporter": "python",
   "pygments_lexer": "ipython3",
   "version": "3.11.13"
  }
 },
 "nbformat": 4,
 "nbformat_minor": 5
}
