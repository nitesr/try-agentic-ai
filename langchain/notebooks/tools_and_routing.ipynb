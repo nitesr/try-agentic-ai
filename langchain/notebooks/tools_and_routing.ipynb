{
 "cells": [
  {
   "cell_type": "markdown",
   "id": "2a60b33c",
   "metadata": {},
   "source": [
    "# Tools and Routing with LangChain"
   ]
  },
  {
   "cell_type": "code",
   "execution_count": 4,
   "id": "b79f286f",
   "metadata": {},
   "outputs": [
    {
     "name": "stdout",
     "output_type": "stream",
     "text": [
      "name: search , description: Search the web for information about the query.\n"
     ]
    },
    {
     "data": {
      "text/plain": [
       "{'query': {'description': 'The query to search for',\n",
       "  'title': 'Query',\n",
       "  'type': 'string'}}"
      ]
     },
     "execution_count": 4,
     "metadata": {},
     "output_type": "execute_result"
    }
   ],
   "source": [
    "from langchain.agents import tool\n",
    "from pydantic import BaseModel, Field\n",
    "\n",
    "class SearchQuery(BaseModel):\n",
    "    query: str = Field(description=\"The query to search for\")\n",
    "\n",
    "@tool(args_schema=SearchQuery)\n",
    "def search(query: str) -> str:\n",
    "    \"\"\"Search the web for information about the query.\"\"\"\n",
    "    return f\"Search results for {query}\"\n",
    "\n",
    "print(\"name:\", search.name, \", description:\", search.description)\n",
    "search.args"
   ]
  },
  {
   "cell_type": "code",
   "execution_count": 5,
   "id": "0082e954",
   "metadata": {},
   "outputs": [
    {
     "data": {
      "text/plain": [
       "'Search results for anything'"
      ]
     },
     "execution_count": 5,
     "metadata": {},
     "output_type": "execute_result"
    }
   ],
   "source": [
    "search.run('anything')"
   ]
  },
  {
   "cell_type": "markdown",
   "id": "9d0ded31",
   "metadata": {},
   "source": [
    "## Tool to get the current temperature by lat and long"
   ]
  },
  {
   "cell_type": "code",
   "execution_count": 6,
   "id": "b0ba1cd9",
   "metadata": {},
   "outputs": [
    {
     "name": "stdout",
     "output_type": "stream",
     "text": [
      "name: get_current_temperature , description: Get the current temperature for a given latitude and longitude using Open-Meteo API.\n"
     ]
    },
    {
     "data": {
      "text/plain": [
       "{'latitude': {'description': 'The latitude coordinate',\n",
       "  'title': 'Latitude',\n",
       "  'type': 'number'},\n",
       " 'longitude': {'description': 'The longitude coordinate',\n",
       "  'title': 'Longitude',\n",
       "  'type': 'number'}}"
      ]
     },
     "execution_count": 6,
     "metadata": {},
     "output_type": "execute_result"
    }
   ],
   "source": [
    "import requests\n",
    "from typing import Optional\n",
    "\n",
    "class TemperatureQuery(BaseModel):\n",
    "    latitude: float = Field(description=\"The latitude coordinate\")\n",
    "    longitude: float = Field(description=\"The longitude coordinate\")\n",
    "\n",
    "@tool(args_schema=TemperatureQuery)\n",
    "def get_current_temperature(latitude: float, longitude: float) -> str:\n",
    "    \"\"\"Get the current temperature for a given latitude and longitude using Open-Meteo API.\"\"\"\n",
    "    try:\n",
    "        # Open-Meteo API endpoint for current weather\n",
    "        url = \"https://api.open-meteo.com/v1/forecast\"\n",
    "        params = {\n",
    "            \"latitude\": latitude,\n",
    "            \"longitude\": longitude,\n",
    "            \"current\": \"temperature_2m\",\n",
    "            \"temperature_unit\": \"celsius\"\n",
    "        }\n",
    "        \n",
    "        response = requests.get(url, params=params)\n",
    "        response.raise_for_status()\n",
    "        \n",
    "        data = response.json()\n",
    "        current_temp = data[\"current\"][\"temperature_2m\"]\n",
    "        \n",
    "        return f\"Current temperature is {current_temp}°C\"\n",
    "    \n",
    "    except Exception as e:\n",
    "        return f\"Error getting temperature: {str(e)}\"\n",
    "\n",
    "# Test the function\n",
    "print(\"name:\", get_current_temperature.name, \", description:\", get_current_temperature.description)\n",
    "get_current_temperature.args\n"
   ]
  },
  {
   "cell_type": "code",
   "execution_count": 7,
   "id": "f08c6a64",
   "metadata": {},
   "outputs": [
    {
     "data": {
      "text/plain": [
       "'Current temperature is 17.1°C'"
      ]
     },
     "execution_count": 7,
     "metadata": {},
     "output_type": "execute_result"
    }
   ],
   "source": [
    "get_current_temperature.run({\"latitude\": 37.7749, \"longitude\": -122.4194})"
   ]
  },
  {
   "cell_type": "markdown",
   "id": "21a676d0",
   "metadata": {},
   "source": [
    "## Tool to get summary of wikipedia page matching the query passed"
   ]
  },
  {
   "cell_type": "code",
   "execution_count": 19,
   "id": "0f05b999",
   "metadata": {},
   "outputs": [
    {
     "name": "stdout",
     "output_type": "stream",
     "text": [
      "name: search_wikipedia , description: Search Wikipedia and return top 3 page titles and summaries for a given query.\n"
     ]
    },
    {
     "data": {
      "text/plain": [
       "{'query': {'description': 'The search query for Wikipedia',\n",
       "  'title': 'Query',\n",
       "  'type': 'string'}}"
      ]
     },
     "execution_count": 19,
     "metadata": {},
     "output_type": "execute_result"
    }
   ],
   "source": [
    "import wikipedia\n",
    "from typing import List, Dict\n",
    "\n",
    "class WikipediaQuery(BaseModel):\n",
    "    query: str = Field(description=\"The search query for Wikipedia\")\n",
    "\n",
    "@tool(args_schema=WikipediaQuery)\n",
    "def search_wikipedia(query: str) -> str:\n",
    "    \"\"\"Search Wikipedia and return top 3 page titles and summaries for a given query.\"\"\"\n",
    "    try:\n",
    "        # Search for pages matching the query\n",
    "        search_results = wikipedia.search(query, results=3)\n",
    "        \n",
    "        if not search_results:\n",
    "            return f\"No Wikipedia pages found for query: {query}\"\n",
    "        \n",
    "        results = []\n",
    "        for title in search_results:\n",
    "            try:\n",
    "                # Get summary for each page\n",
    "                summary = wikipedia.summary(title, sentences=2)\n",
    "                results.append(f\"**{title}**: {summary}\")\n",
    "            except wikipedia.exceptions.DisambiguationError as e:\n",
    "                # If disambiguation page, use the first option\n",
    "                try:\n",
    "                    summary = wikipedia.summary(e.options[0], sentences=2)\n",
    "                    print(f\"**{e.options[0]}**: {summary}\")\n",
    "                except:\n",
    "                    print(f\"**{title}**: Could not retrieve summary\")\n",
    "            except wikipedia.exceptions.PageError:\n",
    "                print(f\"**{title}**: Page not found\")\n",
    "            except Exception as e:\n",
    "                print(f\"**{title}**: Error retrieving summary\")\n",
    "        \n",
    "        return \"\\n\\n\".join(results)\n",
    "    \n",
    "    except Exception as e:\n",
    "        return f\"Error searching Wikipedia: {str(e)}\"\n",
    "\n",
    "# Test the function\n",
    "print(\"name:\", search_wikipedia.name, \", description:\", search_wikipedia.description)\n",
    "search_wikipedia.args"
   ]
  },
  {
   "cell_type": "code",
   "execution_count": 9,
   "id": "1d77339a",
   "metadata": {},
   "outputs": [
    {
     "name": "stdout",
     "output_type": "stream",
     "text": [
      "**France**: Page not found\n"
     ]
    },
    {
     "name": "stderr",
     "output_type": "stream",
     "text": [
      "/Users/n0c09jf/miniconda3/envs/langchain/lib/python3.11/site-packages/wikipedia/wikipedia.py:389: GuessedAtParserWarning: No parser was explicitly specified, so I'm using the best available HTML parser for this system (\"html.parser\"). This usually isn't a problem, but if you run this code on another system, or in a different virtual environment, it may use a different parser and behave differently.\n",
      "\n",
      "The code that caused this warning is on line 389 of the file /Users/n0c09jf/miniconda3/envs/langchain/lib/python3.11/site-packages/wikipedia/wikipedia.py. To get rid of this warning, pass the additional argument 'features=\"html.parser\"' to the BeautifulSoup constructor.\n",
      "\n",
      "  lis = BeautifulSoup(html).find_all('li')\n"
     ]
    },
    {
     "name": "stdout",
     "output_type": "stream",
     "text": [
      "**French**: Could not retrieve summary\n"
     ]
    },
    {
     "data": {
      "text/plain": [
       "'**French of France**: French of France (French: français de France [fʁɑ̃sɛ də fʁɑ̃s]) is the predominant variety of the French language in France, Andorra and Monaco, in its formal and informal registers. It has, for a long time, been associated with Standard French.'"
      ]
     },
     "execution_count": 9,
     "metadata": {},
     "output_type": "execute_result"
    }
   ],
   "source": [
    "search_wikipedia.run(\"France\")"
   ]
  },
  {
   "cell_type": "markdown",
   "id": "65a28cc8",
   "metadata": {},
   "source": [
    "## Tools based on Open API 3.0 specification"
   ]
  },
  {
   "cell_type": "code",
   "execution_count": 76,
   "id": "5fb7215a",
   "metadata": {},
   "outputs": [
    {
     "name": "stdout",
     "output_type": "stream",
     "text": [
      "✅ OpenAPISpec section temporarily disabled due to Pydantic compatibility issue.\n",
      "📝 The rest of the notebook should work fine with the custom tools we created above.\n",
      "🔧 To fix this issue, you would need to:\n",
      "   1. Use Pydantic v1 with older LangChain versions, or\n",
      "   2. Wait for openapi-schema-pydantic to be updated for Pydantic v2 compatibility\n"
     ]
    }
   ],
   "source": [
    "# TEMPORARILY COMMENTED OUT DUE TO PYDANTIC COMPATIBILITY ISSUE\n",
    "# The OpenAPISpec functionality has a compatibility issue with current Pydantic versions\n",
    "# This is a known issue: 'super' object has no attribute 'parse_obj'\n",
    "# \n",
    "# from langchain_community.utilities.openapi import OpenAPISpec\n",
    "# # from langchain_community.agent_toolkits.openapi.toolkit import RequestsToolkit\n",
    "# #from langchain_community.agent_toolkits.openapi import planner\n",
    "# \n",
    "# spec = OpenAPISpec.from_url(\"https://petstore3.swagger.io/api/v3/openapi.json\")\n",
    "# spec.get_path_parameters(\"get\", \"/pets/{pet_id}\")\n",
    "\n",
    "print(\"✅ OpenAPISpec section temporarily disabled due to Pydantic compatibility issue.\")\n",
    "print(\"📝 The rest of the notebook should work fine with the custom tools we created above.\")\n",
    "print(\"🔧 To fix this issue, you would need to:\")\n",
    "print(\"   1. Use Pydantic v1 with older LangChain versions, or\")\n",
    "print(\"   2. Wait for openapi-schema-pydantic to be updated for Pydantic v2 compatibility\")"
   ]
  },
  {
   "cell_type": "markdown",
   "id": "0b58891a",
   "metadata": {},
   "source": [
    "## Provide tools to LLM and converse"
   ]
  },
  {
   "cell_type": "code",
   "execution_count": 61,
   "id": "c78d9415",
   "metadata": {},
   "outputs": [
    {
     "name": "stdout",
     "output_type": "stream",
     "text": [
      "content='' additional_kwargs={'tool_calls': [{'id': '588280792', 'function': {'arguments': '{\"query\":\"Bitcoin\"}', 'name': 'search_wikipedia'}, 'type': 'function'}], 'refusal': None} response_metadata={'token_usage': {'completion_tokens': 21, 'prompt_tokens': 294, 'total_tokens': 315, 'completion_tokens_details': None, 'prompt_tokens_details': None}, 'model_name': 'qwen/qwen3-4b-2507', 'system_fingerprint': 'qwen/qwen3-4b-2507', 'id': 'chatcmpl-y28df0c08cmnisdw6f59k', 'service_tier': None, 'finish_reason': 'tool_calls', 'logprobs': None} id='run--60c9143a-34c0-42a9-8600-cd43b9bc7fa7-0' tool_calls=[{'name': 'search_wikipedia', 'args': {'query': 'Bitcoin'}, 'id': '588280792', 'type': 'tool_call'}] usage_metadata={'input_tokens': 294, 'output_tokens': 21, 'total_tokens': 315, 'input_token_details': {}, 'output_token_details': {}}\n",
      "<class 'langchain_core.messages.ai.AIMessage'>\n",
      "AIMessageContent: \n",
      "AIMessageToolCalls: [{'name': 'search_wikipedia', 'args': {'query': 'Bitcoin'}, 'id': '588280792', 'type': 'tool_call'}]\n"
     ]
    }
   ],
   "source": [
    "from langchain_openai import ChatOpenAI\n",
    "from langchain_core.prompts import ChatPromptTemplate\n",
    "from langchain_core.output_parsers import StrOutputParser\n",
    "from langchain.agents.output_parsers.tools import ToolAgentAction\n",
    "from langchain_core.agents import AgentFinish\n",
    "from langchain_core.messages import AIMessage\n",
    "\n",
    "\n",
    "llm = ChatOpenAI(\n",
    "    temperature=0, \n",
    "    base_url=\"http://localhost:1234/v1\", \n",
    "    api_key=\"dummy-key\",\n",
    "    model=\"qwen/qwen3-4b-2507\") # [deepseek/deepseek-r1-0528-qwen3-8b, meta-llama-3.1-8b-instruct]\n",
    "\n",
    "llm_with_tools = llm.bind_tools([search_wikipedia, get_current_temperature])\n",
    "\n",
    "prompt = ChatPromptTemplate.from_messages([\n",
    "    (\"system\", \"You are a helpful assistant that can search Wikipedia and get the current temperature of a city. DONOT use tools for grettings.\"),\n",
    "    (\"human\", \"{input}\")\n",
    "])\n",
    "\n",
    "def print_result(result):\n",
    "    print(result)\n",
    "    print(type(result))\n",
    "    if isinstance(result, list) and len(result) > 0:\n",
    "        result = result[0]\n",
    "\n",
    "    if isinstance(result, AgentFinish):\n",
    "        print(\"AgentFinish Output:\", result.return_values[\"output\"])\n",
    "\n",
    "    elif isinstance(result, ToolAgentAction):\n",
    "        print(\"ToolAgentAction Tool:\", result.tool)\n",
    "        print(\"ToolAgentAction Tool Input:\", result.tool_input)\n",
    "    elif isinstance(result, AIMessage):\n",
    "        print(\"AIMessageContent:\", result.content)\n",
    "        print(\"AIMessageToolCalls:\", result.tool_calls)\n",
    "\n",
    "chain = prompt | llm_with_tools\n",
    "\n",
    "response = chain.invoke({\"input\": \"get articles on Bitcoin\"})\n",
    "print_result(response)"
   ]
  },
  {
   "cell_type": "code",
   "execution_count": 62,
   "id": "3c5312cd",
   "metadata": {},
   "outputs": [
    {
     "name": "stdout",
     "output_type": "stream",
     "text": [
      "content='' additional_kwargs={'tool_calls': [{'id': '295552382', 'function': {'arguments': '{\"latitude\":37.7749,\"longitude\":-122.4194}', 'name': 'get_current_temperature'}, 'type': 'function'}], 'refusal': None} response_metadata={'token_usage': {'completion_tokens': 40, 'prompt_tokens': 298, 'total_tokens': 338, 'completion_tokens_details': None, 'prompt_tokens_details': None}, 'model_name': 'qwen/qwen3-4b-2507', 'system_fingerprint': 'qwen/qwen3-4b-2507', 'id': 'chatcmpl-zzmdm1xlwxlhyuptd0rh', 'service_tier': None, 'finish_reason': 'tool_calls', 'logprobs': None} id='run--434b2f64-0937-40b4-8033-145d92c0302b-0' tool_calls=[{'name': 'get_current_temperature', 'args': {'latitude': 37.7749, 'longitude': -122.4194}, 'id': '295552382', 'type': 'tool_call'}] usage_metadata={'input_tokens': 298, 'output_tokens': 40, 'total_tokens': 338, 'input_token_details': {}, 'output_token_details': {}}\n",
      "<class 'langchain_core.messages.ai.AIMessage'>\n",
      "AIMessageContent: \n",
      "AIMessageToolCalls: [{'name': 'get_current_temperature', 'args': {'latitude': 37.7749, 'longitude': -122.4194}, 'id': '295552382', 'type': 'tool_call'}]\n"
     ]
    }
   ],
   "source": [
    "response = chain.invoke({\"input\": \"What is the current temperature in SF?\"})\n",
    "print_result(response)"
   ]
  },
  {
   "cell_type": "code",
   "execution_count": 63,
   "id": "ba935468",
   "metadata": {},
   "outputs": [
    {
     "name": "stdout",
     "output_type": "stream",
     "text": [
      "return_values={'output': 'The capital of France is Paris.'} log='The capital of France is Paris.'\n",
      "<class 'langchain_core.agents.AgentFinish'>\n",
      "AgentFinish Output: The capital of France is Paris.\n"
     ]
    }
   ],
   "source": [
    "from langchain.agents.output_parsers.openai_tools import OpenAIToolsAgentOutputParser\n",
    "# from langchain.agents.output_parsers import OpenAIFunctionsAgentOutputParser\n",
    "\n",
    "openai_chain = chain | OpenAIToolsAgentOutputParser()\n",
    "\n",
    "result = openai_chain.invoke({\"input\": \"What is the capital of France?\"})\n",
    "\n",
    "print_result(result)"
   ]
  },
  {
   "cell_type": "code",
   "execution_count": 64,
   "id": "ea9d5b0b",
   "metadata": {},
   "outputs": [
    {
     "name": "stdout",
     "output_type": "stream",
     "text": [
      "[ToolAgentAction(tool='get_current_temperature', tool_input={'latitude': 37.7749, 'longitude': -122.4194}, log=\"\\nInvoking: `get_current_temperature` with `{'latitude': 37.7749, 'longitude': -122.4194}`\\n\\n\\n\", message_log=[AIMessage(content='', additional_kwargs={'tool_calls': [{'id': '209038887', 'function': {'arguments': '{\"latitude\":37.7749,\"longitude\":-122.4194}', 'name': 'get_current_temperature'}, 'type': 'function'}], 'refusal': None}, response_metadata={'token_usage': {'completion_tokens': 40, 'prompt_tokens': 298, 'total_tokens': 338, 'completion_tokens_details': None, 'prompt_tokens_details': None}, 'model_name': 'qwen/qwen3-4b-2507', 'system_fingerprint': 'qwen/qwen3-4b-2507', 'id': 'chatcmpl-hvsibwgjingzgyklrsfod', 'service_tier': None, 'finish_reason': 'tool_calls', 'logprobs': None}, id='run--2040b235-3838-4eb8-9e6c-f84bf2558398-0', tool_calls=[{'name': 'get_current_temperature', 'args': {'latitude': 37.7749, 'longitude': -122.4194}, 'id': '209038887', 'type': 'tool_call'}], usage_metadata={'input_tokens': 298, 'output_tokens': 40, 'total_tokens': 338, 'input_token_details': {}, 'output_token_details': {}})], tool_call_id='209038887')]\n",
      "<class 'list'>\n",
      "ToolAgentAction Tool: get_current_temperature\n",
      "ToolAgentAction Tool Input: {'latitude': 37.7749, 'longitude': -122.4194}\n"
     ]
    }
   ],
   "source": [
    "result = openai_chain.invoke({\"input\": \"What is the current temperature in SF?\"})\n",
    "print_result(result)"
   ]
  },
  {
   "cell_type": "code",
   "execution_count": 67,
   "id": "93c94870",
   "metadata": {},
   "outputs": [
    {
     "data": {
      "text/plain": [
       "'Current temperature is 17.0°C'"
      ]
     },
     "execution_count": 67,
     "metadata": {},
     "output_type": "execute_result"
    }
   ],
   "source": [
    "get_current_temperature(result[0].tool_input)"
   ]
  },
  {
   "cell_type": "code",
   "execution_count": 68,
   "id": "0195d373",
   "metadata": {},
   "outputs": [
    {
     "name": "stdout",
     "output_type": "stream",
     "text": [
      "return_values={'output': 'Hello! How can I assist you today?'} log='Hello! How can I assist you today?'\n",
      "<class 'langchain_core.agents.AgentFinish'>\n",
      "AgentFinish Output: Hello! How can I assist you today?\n"
     ]
    }
   ],
   "source": [
    "result = openai_chain.invoke({\"input\": \"Hi!\"}) \n",
    "print_result(result)"
   ]
  },
  {
   "cell_type": "markdown",
   "id": "8e656fe8",
   "metadata": {},
   "source": [
    "## Routing the call to tool"
   ]
  },
  {
   "cell_type": "code",
   "execution_count": 70,
   "id": "e6389318",
   "metadata": {},
   "outputs": [],
   "source": [
    "from langchain_core.runnables import RunnableLambda\n",
    "\n",
    "def route(x):\n",
    "    if isinstance(x, list):\n",
    "        x = x[0]\n",
    "\n",
    "    if isinstance(x, AgentFinish):\n",
    "        return x.return_values[\"output\"]\n",
    "    elif isinstance(x, ToolAgentAction):\n",
    "        tool_name = x.tool \n",
    "        if tool_name == \"search_wikipedia\":\n",
    "            return search_wikipedia(x.tool_input)\n",
    "        elif tool_name == \"get_current_temperature\":\n",
    "            return get_current_temperature(x.tool_input)\n",
    "\n",
    "    return \"\"\n",
    "\n",
    "router = RunnableLambda(lambda x: route(x))\n",
    "complete_chain = openai_chain | router"
   ]
  },
  {
   "cell_type": "code",
   "execution_count": 71,
   "id": "bbe33721",
   "metadata": {},
   "outputs": [
    {
     "data": {
      "text/plain": [
       "'Current temperature is 17.4°C'"
      ]
     },
     "execution_count": 71,
     "metadata": {},
     "output_type": "execute_result"
    }
   ],
   "source": [
    "complete_chain.invoke({\"input\": \"What is the current temperature in SF?\"})"
   ]
  },
  {
   "cell_type": "code",
   "execution_count": 72,
   "id": "cc25f67d",
   "metadata": {},
   "outputs": [
    {
     "data": {
      "text/plain": [
       "\"**Bitcoin**: Bitcoin (abbreviation: BTC; sign: ₿) is the first decentralized cryptocurrency. Based on a free-market ideology, bitcoin was invented in 2008 when an unknown entity published a white paper under the pseudonym of Satoshi Nakamoto.\\n\\n**History of bitcoin**: Bitcoin is a cryptocurrency, a digital asset that uses cryptography to control its creation and management rather than relying on central authorities. Originally designed as a medium of exchange, Bitcoin is now primarily regarded as a store of value.\\n\\n**Strategic bitcoin reserve (United States)**: The strategic bitcoin reserve is a reserve asset, funded by the United States Treasury's forfeited bitcoin, announced by President Donald Trump in March 2025. Separately, a digital asset stockpile for non-bitcoin assets was also created.\""
      ]
     },
     "execution_count": 72,
     "metadata": {},
     "output_type": "execute_result"
    }
   ],
   "source": [
    "complete_chain.invoke({\"input\": \"get articles on Bitcoin\"})"
   ]
  },
  {
   "cell_type": "code",
   "execution_count": 73,
   "id": "ff4233e3",
   "metadata": {},
   "outputs": [
    {
     "data": {
      "text/plain": [
       "'Hello! How can I assist you today?'"
      ]
     },
     "execution_count": 73,
     "metadata": {},
     "output_type": "execute_result"
    }
   ],
   "source": [
    "complete_chain.invoke({\"input\": \"Hi!\"})"
   ]
  },
  {
   "cell_type": "code",
   "execution_count": 74,
   "id": "8f2452a9",
   "metadata": {},
   "outputs": [
    {
     "data": {
      "text/plain": [
       "'The capital of France is Paris.'"
      ]
     },
     "execution_count": 74,
     "metadata": {},
     "output_type": "execute_result"
    }
   ],
   "source": [
    "complete_chain.invoke({\"input\": \"What is the captial of France?\"})"
   ]
  }
 ],
 "metadata": {
  "kernelspec": {
   "display_name": "langchain",
   "language": "python",
   "name": "python3"
  },
  "language_info": {
   "codemirror_mode": {
    "name": "ipython",
    "version": 3
   },
   "file_extension": ".py",
   "mimetype": "text/x-python",
   "name": "python",
   "nbconvert_exporter": "python",
   "pygments_lexer": "ipython3",
   "version": "3.11.13"
  }
 },
 "nbformat": 4,
 "nbformat_minor": 5
}
